{
 "cells": [
  {
   "cell_type": "markdown",
   "metadata": {},
   "source": [
    "# Exploratory Data Analysis\n",
    "The purpose for this notebook is to gain insights into the data and to understand it."
   ]
  },
  {
   "cell_type": "code",
   "execution_count": 7,
   "metadata": {},
   "outputs": [
    {
     "name": "stdout",
     "output_type": "stream",
     "text": [
      "Populating the interactive namespace from numpy and matplotlib\n"
     ]
    }
   ],
   "source": [
    "%pylab inline\n",
    "import numpy as np\n",
    "import pandas as pd\n",
    "from os.path import join"
   ]
  },
  {
   "cell_type": "code",
   "execution_count": 10,
   "metadata": {},
   "outputs": [],
   "source": [
    "DATAPATH = '../data'\n",
    "#df = pd.read_csv(join(DATAPATH, 'loan.csv'))\n",
    "xl = pd.ExcelFile(join(DATAPATH, 'LCDataDictionary.xlsx'))\n",
    "\n",
    "loan_stats   = xl.parse(xl.sheet_names[0])\n",
    "browse_notes = xl.parse(xl.sheet_names[1])\n",
    "reject_stats = xl.parse(xl.sheet_names[2])\n",
    "del xl"
   ]
  },
  {
   "cell_type": "markdown",
   "metadata": {},
   "source": [
    "## Initial data inspection\n",
    "Here we will look into relationships between different data pieces and fundamental qualities such as existence of _missing_ data, _outliers_ and any potiential _inconsistencies_."
   ]
  },
  {
   "cell_type": "markdown",
   "metadata": {},
   "source": [
    "### Loan status `loan_stats`"
   ]
  },
  {
   "cell_type": "code",
   "execution_count": 12,
   "metadata": {},
   "outputs": [
    {
     "data": {
      "text/html": [
       "<div>\n",
       "<style scoped>\n",
       "    .dataframe tbody tr th:only-of-type {\n",
       "        vertical-align: middle;\n",
       "    }\n",
       "\n",
       "    .dataframe tbody tr th {\n",
       "        vertical-align: top;\n",
       "    }\n",
       "\n",
       "    .dataframe thead th {\n",
       "        text-align: right;\n",
       "    }\n",
       "</style>\n",
       "<table border=\"1\" class=\"dataframe\">\n",
       "  <thead>\n",
       "    <tr style=\"text-align: right;\">\n",
       "      <th></th>\n",
       "      <th>LoanStatNew</th>\n",
       "      <th>Description</th>\n",
       "    </tr>\n",
       "  </thead>\n",
       "  <tbody>\n",
       "    <tr>\n",
       "      <th>0</th>\n",
       "      <td>acc_now_delinq</td>\n",
       "      <td>The number of accounts on which the borrower i...</td>\n",
       "    </tr>\n",
       "    <tr>\n",
       "      <th>1</th>\n",
       "      <td>acc_open_past_24mths</td>\n",
       "      <td>Number of trades opened in past 24 months.</td>\n",
       "    </tr>\n",
       "    <tr>\n",
       "      <th>2</th>\n",
       "      <td>addr_state</td>\n",
       "      <td>The state provided by the borrower in the loan...</td>\n",
       "    </tr>\n",
       "    <tr>\n",
       "      <th>3</th>\n",
       "      <td>all_util</td>\n",
       "      <td>Balance to credit limit on all trades</td>\n",
       "    </tr>\n",
       "    <tr>\n",
       "      <th>4</th>\n",
       "      <td>annual_inc</td>\n",
       "      <td>The self-reported annual income provided by th...</td>\n",
       "    </tr>\n",
       "  </tbody>\n",
       "</table>\n",
       "</div>"
      ],
      "text/plain": [
       "            LoanStatNew                                        Description\n",
       "0        acc_now_delinq  The number of accounts on which the borrower i...\n",
       "1  acc_open_past_24mths         Number of trades opened in past 24 months.\n",
       "2            addr_state  The state provided by the borrower in the loan...\n",
       "3              all_util              Balance to credit limit on all trades\n",
       "4            annual_inc  The self-reported annual income provided by th..."
      ]
     },
     "execution_count": 12,
     "metadata": {},
     "output_type": "execute_result"
    }
   ],
   "source": [
    "loan_stats.head()"
   ]
  },
  {
   "cell_type": "code",
   "execution_count": 38,
   "metadata": {},
   "outputs": [
    {
     "name": "stdout",
     "output_type": "stream",
     "text": [
      "Missing data: 0 rows out of 151 rows in total.\n",
      "Are all values in `LoanStatNew` unique? True\n",
      "Are all values in `Description` unique? True\n"
     ]
    }
   ],
   "source": [
    "print(\"Missing data: {} rows out of {} rows in total.\".format(len(loan_stats) - loan_stats.dropna().shape[0], len(loan_stats)))\n",
    "print(\"Are all values in `LoanStatNew` unique? {}\".format(len(loan_stats['LoanStatNew'].unique()) == len(loan_stats)))\n",
    "print(\"Are all values in `Description` unique? {}\".format(len(loan_stats['Description'].unique()) == len(loan_stats)))"
   ]
  },
  {
   "cell_type": "code",
   "execution_count": 46,
   "metadata": {},
   "outputs": [
    {
     "name": "stdout",
     "output_type": "stream",
     "text": [
      "                                    LoanStatNew                                        Description\n",
      "0                                acc_now_delinq  The number of accounts on which the borrower i...\n",
      "1                          acc_open_past_24mths         Number of trades opened in past 24 months.\n",
      "2                                    addr_state  The state provided by the borrower in the loan...\n",
      "3                                      all_util              Balance to credit limit on all trades\n",
      "4                                    annual_inc  The self-reported annual income provided by th...\n",
      "5                              annual_inc_joint  The combined self-reported annual income provi...\n",
      "6                              application_type  Indicates whether the loan is an individual ap...\n",
      "7                                   avg_cur_bal            Average current balance of all accounts\n",
      "8                                bc_open_to_buy          Total open to buy on revolving bankcards.\n",
      "9                                       bc_util  Ratio of total current balance to high credit/...\n",
      "10                     chargeoff_within_12_mths             Number of charge-offs within 12 months\n",
      "11                      collection_recovery_fee                     post charge off collection fee\n",
      "12                   collections_12_mths_ex_med  Number of collections in 12 months excluding m...\n",
      "13                                  delinq_2yrs  The number of 30+ days past-due incidences of ...\n",
      "14                                  delinq_amnt  The past-due amount owed for the accounts on w...\n",
      "15                                         desc          Loan description provided by the borrower\n",
      "16                                          dti  A ratio calculated using the borrower’s total ...\n",
      "17                                    dti_joint  A ratio calculated using the co-borrowers' tot...\n",
      "18                             earliest_cr_line  The month the borrower's earliest reported cre...\n",
      "19                                   emp_length  Employment length in years. Possible values ar...\n",
      "20                                    emp_title  The job title supplied by the Borrower when ap...\n",
      "21                              fico_range_high  The upper boundary range the borrower’s FICO a...\n",
      "22                               fico_range_low  The lower boundary range the borrower’s FICO a...\n",
      "23                                  funded_amnt  The total amount committed to that loan at tha...\n",
      "24                              funded_amnt_inv  The total amount committed by investors for th...\n",
      "25                                        grade                             LC assigned loan grade\n",
      "26                               home_ownership  The home ownership status provided by the borr...\n",
      "27                                           id      A unique LC assigned ID for the loan listing.\n",
      "28                                      il_util  Ratio of total current balance to high credit/...\n",
      "29                          initial_list_status  The initial listing status of the loan. Possib...\n",
      "30                                       inq_fi               Number of personal finance inquiries\n",
      "31                                 inq_last_12m       Number of credit inquiries in past 12 months\n",
      "32                               inq_last_6mths  The number of inquiries in past 6 months (excl...\n",
      "33                                  installment  The monthly payment owed by the borrower if th...\n",
      "34                                     int_rate                          Interest Rate on the loan\n",
      "35                                      issue_d                The month which the loan was funded\n",
      "36                           last_credit_pull_d  The most recent month LC pulled credit for thi...\n",
      "37                         last_fico_range_high  The upper boundary range the borrower’s last F...\n",
      "38                          last_fico_range_low  The lower boundary range the borrower’s last F...\n",
      "39                              last_pymnt_amnt                 Last total payment amount received\n",
      "40                                 last_pymnt_d                    Last month payment was received\n",
      "41                                    loan_amnt  The listed amount of the loan applied for by t...\n",
      "42                                  loan_status                         Current status of the loan\n",
      "43                                   max_bal_bc  Maximum current balance owed on all revolving ...\n",
      "44                                    member_id   A unique LC assigned Id for the borrower member.\n",
      "45                           mo_sin_old_il_acct  Months since oldest bank installment account o...\n",
      "46                         mo_sin_old_rev_tl_op       Months since oldest revolving account opened\n",
      "47                        mo_sin_rcnt_rev_tl_op  Months since most recent revolving account opened\n",
      "48                               mo_sin_rcnt_tl            Months since most recent account opened\n",
      "49                                     mort_acc                       Number of mortgage accounts.\n",
      "50                       mths_since_last_delinq  The number of months since the borrower's last...\n",
      "51                  mths_since_last_major_derog    Months since most recent 90-day or worse rating\n",
      "52                       mths_since_last_record  The number of months since the last public rec...\n",
      "53                           mths_since_rcnt_il  Months since most recent installment accounts ...\n",
      "54                         mths_since_recent_bc  Months since most recent bankcard account opened.\n",
      "55                     mths_since_recent_bc_dlq      Months since most recent bankcard delinquency\n",
      "56                        mths_since_recent_inq                  Months since most recent inquiry.\n",
      "57               mths_since_recent_revol_delinq    Months since most recent revolving delinquency.\n",
      "58                                 next_pymnt_d                        Next scheduled payment date\n",
      "59                        num_accts_ever_120_pd  Number of accounts ever 120 or more days past due\n",
      "60                               num_actv_bc_tl       Number of currently active bankcard accounts\n",
      "61                              num_actv_rev_tl        Number of currently active revolving trades\n",
      "62                                  num_bc_sats           Number of satisfactory bankcard accounts\n",
      "63                                    num_bc_tl                        Number of bankcard accounts\n",
      "64                                    num_il_tl                     Number of installment accounts\n",
      "65                                num_op_rev_tl                  Number of open revolving accounts\n",
      "66                                num_rev_accts                       Number of revolving accounts\n",
      "67                          num_rev_tl_bal_gt_0         Number of revolving trades with balance >0\n",
      "68                                     num_sats                    Number of satisfactory accounts\n",
      "69                             num_tl_120dpd_2m  Number of accounts currently 120 days past due...\n",
      "70                                 num_tl_30dpd  Number of accounts currently 30 days past due ...\n",
      "71                           num_tl_90g_dpd_24m  Number of accounts 90 or more days past due in...\n",
      "72                           num_tl_op_past_12m        Number of accounts opened in past 12 months\n",
      "73                                     open_acc  The number of open credit lines in the borrowe...\n",
      "74                                  open_acc_6m             Number of open trades in last 6 months\n",
      "75                                  open_il_12m  Number of installment accounts opened in past ...\n",
      "76                                  open_il_24m  Number of installment accounts opened in past ...\n",
      "77                                  open_act_il      Number of currently active installment trades\n",
      "78                                  open_rv_12m  Number of revolving trades opened in past 12 m...\n",
      "79                                  open_rv_24m  Number of revolving trades opened in past 24 m...\n",
      "80                                    out_prncp  Remaining outstanding principal for total amou...\n",
      "81                                out_prncp_inv  Remaining outstanding principal for portion of...\n",
      "82                               pct_tl_nvr_dlq                 Percent of trades never delinquent\n",
      "83                             percent_bc_gt_75  Percentage of all bankcard accounts > 75% of l...\n",
      "84                                  policy_code  publicly available policy_code=1\\nnew products...\n",
      "85                                      pub_rec                Number of derogatory public records\n",
      "86                         pub_rec_bankruptcies               Number of public record bankruptcies\n",
      "87                                      purpose  A category provided by the borrower for the lo...\n",
      "88                                   pymnt_plan  Indicates if a payment plan has been put in pl...\n",
      "89                                   recoveries                     post charge off gross recovery\n",
      "90                                    revol_bal                     Total credit revolving balance\n",
      "91                                   revol_util  Revolving line utilization rate, or the amount...\n",
      "92                                    sub_grade                          LC assigned loan subgrade\n",
      "93                                    tax_liens                                Number of tax liens\n",
      "94                                         term  The number of payments on the loan. Values are...\n",
      "95                                        title            The loan title provided by the borrower\n",
      "96                                 tot_coll_amt                 Total collection amounts ever owed\n",
      "97                                  tot_cur_bal              Total current balance of all accounts\n",
      "98                              tot_hi_cred_lim                     Total high credit/credit limit\n",
      "99                                    total_acc  The total number of credit lines currently in ...\n",
      "100                           total_bal_ex_mort            Total credit balance excluding mortgage\n",
      "101                                total_bal_il  Total current balance of all installment accounts\n",
      "102                              total_bc_limit            Total bankcard high credit/credit limit\n",
      "103                                 total_cu_tl                           Number of finance trades\n",
      "104                  total_il_high_credit_limit         Total installment high credit/credit limit\n",
      "105                                 total_pymnt  Payments received to date for total amount funded\n",
      "106                             total_pymnt_inv  Payments received to date for portion of total...\n",
      "107                               total_rec_int                          Interest received to date\n",
      "108                          total_rec_late_fee                         Late fees received to date\n",
      "109                             total_rec_prncp                         Principal received to date\n",
      "110                           total_rev_hi_lim            Total revolving high credit/credit limit\n",
      "111                                         url             URL for the LC page with listing data.\n",
      "112                         verification_status  Indicates if income was verified by LC, not ve...\n",
      "113                       verified_status_joint  Indicates if the co-borrowers' joint income wa...\n",
      "114                                    zip_code  The first 3 numbers of the zip code provided b...\n",
      "115                             revol_bal_joint   Sum of revolving credit balance of the co-bor...\n",
      "116                      sec_app_fico_range_low      FICO range (high) for the secondary applicant\n",
      "117                     sec_app_fico_range_high       FICO range (low) for the secondary applicant\n",
      "118                    sec_app_earliest_cr_line   Earliest credit line at time of application f...\n",
      "119                      sec_app_inq_last_6mths   Credit inquiries in the last 6 months at time...\n",
      "120                            sec_app_mort_acc   Number of mortgage accounts at time of applic...\n",
      "121                            sec_app_open_acc   Number of open trades at time of application ...\n",
      "122                          sec_app_revol_util   Ratio of total current balance to high credit...\n",
      "123                         sec_app_open_act_il   Number of currently active installment trades...\n",
      "124                       sec_app_num_rev_accts   Number of revolving accounts at time of appli...\n",
      "125            sec_app_chargeoff_within_12_mths   Number of charge-offs within last 12 months a...\n",
      "126          sec_app_collections_12_mths_ex_med   Number of collections within last 12 months e...\n",
      "127         sec_app_mths_since_last_major_derog   Months since most recent 90-day or worse rati...\n",
      "128                               hardship_flag  Flags whether or not the borrower is on a hard...\n",
      "129                               hardship_type               Describes the hardship plan offering\n",
      "130                             hardship_reason  Describes the reason the hardship plan was off...\n",
      "131                             hardship_status  Describes if the hardship plan is active, pend...\n",
      "132                               deferral_term  Amount of months that the borrower is expected...\n",
      "133                             hardship_amount  The interest payment that the borrower has com...\n",
      "134                         hardship_start_date         The start date of the hardship plan period\n",
      "135                           hardship_end_date           The end date of the hardship plan period\n",
      "136                     payment_plan_start_date  The day the first hardship plan payment is due...\n",
      "137                             hardship_length  The number of months the borrower will make sm...\n",
      "138                                hardship_dpd  Account days past due as of the hardship plan ...\n",
      "139                        hardship_loan_status     Loan Status as of the hardship plan start date\n",
      "140  orig_projected_additional_accrued_interest  The original projected additional interest amo...\n",
      "141              hardship_payoff_balance_amount  The payoff balance amount as of the hardship p...\n",
      "142                hardship_last_payment_amount  The last payment amount as of the hardship pla...\n",
      "143                         disbursement_method  The method by which the borrower receives thei...\n",
      "144                        debt_settlement_flag  Flags whether or not the borrower, who has cha...\n",
      "145                   debt_settlement_flag_date  The most recent date that the Debt_Settlement_...\n",
      "146                           settlement_status  The status of the borrower’s settlement plan. ...\n",
      "147                             settlement_date  The date that the borrower agrees to the settl...\n",
      "148                           settlement_amount  The loan amount that the borrower has agreed t...\n",
      "149                       settlement_percentage  The settlement amount as a percentage of the p...\n",
      "150                             settlement_term  The number of months that the borrower will be...\n"
     ]
    }
   ],
   "source": [
    "# basic data cleaning\n",
    "loan_stats = loan_stats.dropna()\n",
    "loan_stats['LoanStatNew'] = loan_stats['LoanStatNew'].str.replace(' ', '')\n",
    "loan_stats['LoanStatNew'] = loan_stats['LoanStatNew'].str.lower()\n",
    "\n",
    "print(loan_stats.to_string()) # <- uncomment to display all the values."
   ]
  },
  {
   "cell_type": "markdown",
   "metadata": {},
   "source": [
    "The `loan_stats` is an auxiliary table that provides information about possible loan status (codes). It possesses good descriptions, but understanding it deeply requires domain expertise.\n",
    "What is important at this stage is that we have:\n",
    "* 151 **unique** codes, which are all delimited with an _underscore_ and written in small letters.\n",
    "\n",
    "Perhaps that should be a convention?"
   ]
  },
  {
   "cell_type": "markdown",
   "metadata": {},
   "source": [
    "### Browse Notes `browse_notes`"
   ]
  },
  {
   "cell_type": "code",
   "execution_count": 41,
   "metadata": {},
   "outputs": [
    {
     "data": {
      "text/html": [
       "<div>\n",
       "<style scoped>\n",
       "    .dataframe tbody tr th:only-of-type {\n",
       "        vertical-align: middle;\n",
       "    }\n",
       "\n",
       "    .dataframe tbody tr th {\n",
       "        vertical-align: top;\n",
       "    }\n",
       "\n",
       "    .dataframe thead th {\n",
       "        text-align: right;\n",
       "    }\n",
       "</style>\n",
       "<table border=\"1\" class=\"dataframe\">\n",
       "  <thead>\n",
       "    <tr style=\"text-align: right;\">\n",
       "      <th></th>\n",
       "      <th>BrowseNotesFile</th>\n",
       "      <th>Description</th>\n",
       "    </tr>\n",
       "  </thead>\n",
       "  <tbody>\n",
       "    <tr>\n",
       "      <th>0</th>\n",
       "      <td>acceptD</td>\n",
       "      <td>The date which the borrower accepted  the offer</td>\n",
       "    </tr>\n",
       "    <tr>\n",
       "      <th>1</th>\n",
       "      <td>accNowDelinq</td>\n",
       "      <td>The number of accounts on which the borrower i...</td>\n",
       "    </tr>\n",
       "    <tr>\n",
       "      <th>2</th>\n",
       "      <td>accOpenPast24Mths</td>\n",
       "      <td>Number of trades opened in past 24 months.</td>\n",
       "    </tr>\n",
       "    <tr>\n",
       "      <th>3</th>\n",
       "      <td>addrState</td>\n",
       "      <td>The state provided by the borrower in the loan...</td>\n",
       "    </tr>\n",
       "    <tr>\n",
       "      <th>4</th>\n",
       "      <td>all_util</td>\n",
       "      <td>Balance to credit limit on all trades</td>\n",
       "    </tr>\n",
       "  </tbody>\n",
       "</table>\n",
       "</div>"
      ],
      "text/plain": [
       "     BrowseNotesFile                                        Description\n",
       "0            acceptD    The date which the borrower accepted  the offer\n",
       "1       accNowDelinq  The number of accounts on which the borrower i...\n",
       "2  accOpenPast24Mths         Number of trades opened in past 24 months.\n",
       "3          addrState  The state provided by the borrower in the loan...\n",
       "4           all_util              Balance to credit limit on all trades"
      ]
     },
     "execution_count": 41,
     "metadata": {},
     "output_type": "execute_result"
    }
   ],
   "source": [
    "browse_notes.head()"
   ]
  },
  {
   "cell_type": "code",
   "execution_count": 44,
   "metadata": {},
   "outputs": [
    {
     "name": "stdout",
     "output_type": "stream",
     "text": [
      "Missing data: 0 rows out of 120 rows in total.\n",
      "Are all values in `LoanStatNew` unique? True\n",
      "Are all values in `Description` unique? True\n"
     ]
    }
   ],
   "source": [
    "print(\"Missing data: {} rows out of {} rows in total.\".format(len(browse_notes) - browse_notes.dropna().shape[0], len(browse_notes)))\n",
    "print(\"Are all values in `LoanStatNew` unique? {}\".format(len(browse_notes['BrowseNotesFile'].unique()) == len(browse_notes)))\n",
    "print(\"Are all values in `Description` unique? {}\".format(len(browse_notes['Description'].unique()) == len(browse_notes)))"
   ]
  },
  {
   "cell_type": "code",
   "execution_count": 43,
   "metadata": {},
   "outputs": [],
   "source": [
    "browse_notes = browse_notes.dropna()"
   ]
  },
  {
   "cell_type": "code",
   "execution_count": 112,
   "metadata": {},
   "outputs": [],
   "source": [
    "import re\n",
    "\n",
    "def camel2snake(name):\n",
    "    s1 = re.sub('(.)([A-Z][a-z]+)', r'\\1_\\2', name)\n",
    "    return re.sub('([a-z0-9])([A-Z])', r'\\1_\\2', s1).lower()\n",
    "\n",
    "browse_notes = browse_notes.copy()\n",
    "browse_notes['BrowseNotesFile'] = browse_notes['BrowseNotesFile'].apply(lambda x: camel2snake(x))"
   ]
  },
  {
   "cell_type": "code",
   "execution_count": 120,
   "metadata": {},
   "outputs": [
    {
     "name": "stdout",
     "output_type": "stream",
     "text": [
      "Code words in `loan_stats` that overlap with the `browse_notes`: 88\n"
     ]
    }
   ],
   "source": [
    "print(\"Code words in `loan_stats` that overlap with the `browse_notes`: {}\".format(\n",
    "    len(set(browse_notes['BrowseNotesFile']).intersection(set(loan_stats['LoanStatNew'])))))"
   ]
  },
  {
   "cell_type": "code",
   "execution_count": null,
   "metadata": {},
   "outputs": [],
   "source": []
  },
  {
   "cell_type": "code",
   "execution_count": null,
   "metadata": {},
   "outputs": [],
   "source": []
  },
  {
   "cell_type": "code",
   "execution_count": null,
   "metadata": {},
   "outputs": [],
   "source": []
  },
  {
   "cell_type": "code",
   "execution_count": null,
   "metadata": {},
   "outputs": [],
   "source": []
  },
  {
   "cell_type": "code",
   "execution_count": null,
   "metadata": {},
   "outputs": [],
   "source": []
  },
  {
   "cell_type": "code",
   "execution_count": null,
   "metadata": {},
   "outputs": [],
   "source": []
  },
  {
   "cell_type": "code",
   "execution_count": null,
   "metadata": {},
   "outputs": [],
   "source": []
  },
  {
   "cell_type": "code",
   "execution_count": null,
   "metadata": {},
   "outputs": [],
   "source": []
  },
  {
   "cell_type": "code",
   "execution_count": null,
   "metadata": {},
   "outputs": [],
   "source": []
  },
  {
   "cell_type": "code",
   "execution_count": null,
   "metadata": {},
   "outputs": [],
   "source": []
  },
  {
   "cell_type": "code",
   "execution_count": null,
   "metadata": {},
   "outputs": [],
   "source": []
  },
  {
   "cell_type": "code",
   "execution_count": null,
   "metadata": {},
   "outputs": [],
   "source": []
  },
  {
   "cell_type": "code",
   "execution_count": null,
   "metadata": {},
   "outputs": [],
   "source": []
  },
  {
   "cell_type": "code",
   "execution_count": null,
   "metadata": {},
   "outputs": [],
   "source": []
  },
  {
   "cell_type": "code",
   "execution_count": null,
   "metadata": {},
   "outputs": [],
   "source": []
  },
  {
   "cell_type": "code",
   "execution_count": null,
   "metadata": {},
   "outputs": [],
   "source": []
  },
  {
   "cell_type": "code",
   "execution_count": null,
   "metadata": {},
   "outputs": [],
   "source": []
  }
 ],
 "metadata": {
  "kernelspec": {
   "display_name": "Python 3",
   "language": "python",
   "name": "python3"
  },
  "language_info": {
   "codemirror_mode": {
    "name": "ipython",
    "version": 3
   },
   "file_extension": ".py",
   "mimetype": "text/x-python",
   "name": "python",
   "nbconvert_exporter": "python",
   "pygments_lexer": "ipython3",
   "version": "3.6.7"
  }
 },
 "nbformat": 4,
 "nbformat_minor": 2
}
