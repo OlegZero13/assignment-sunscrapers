{
  "nbformat": 4,
  "nbformat_minor": 0,
  "metadata": {
    "kernelspec": {
      "name": "python3",
      "display_name": "Python 3"
    },
    "language_info": {
      "codemirror_mode": {
        "name": "ipython",
        "version": 3
      },
      "file_extension": ".py",
      "mimetype": "text/x-python",
      "name": "python",
      "nbconvert_exporter": "python",
      "pygments_lexer": "ipython3",
      "version": "3.6.7"
    },
    "colab": {
      "name": "Copy of Exploratory Data Analysis.ipynb",
      "provenance": [],
      "collapsed_sections": [],
      "toc_visible": true,
      "machine_shape": "hm"
    },
    "accelerator": "TPU"
  },
  "cells": [
    {
      "cell_type": "markdown",
      "metadata": {
        "id": "nEKrRI3Kq1WW",
        "colab_type": "text"
      },
      "source": [
        "# Exploratory Data Analysis\n",
        "The purpose for this notebook is to gain insights into the data and to understand it."
      ]
    },
    {
      "cell_type": "code",
      "metadata": {
        "id": "L9pxvLvNq1We",
        "colab_type": "code",
        "outputId": "83ad64e5-1d5f-41c2-c3de-3399155f057f",
        "colab": {
          "base_uri": "https://localhost:8080/",
          "height": 34
        }
      },
      "source": [
        "%pylab inline\n",
        "import numpy as np\n",
        "import pandas as pd\n",
        "import seaborn as sns\n",
        "from matplotlib import rcParams\n",
        "from os.path import join\n",
        "\n",
        "rcParams['figure.figsize'] = 14, 6\n",
        "DATAPATH = '../data'"
      ],
      "execution_count": 1,
      "outputs": [
        {
          "output_type": "stream",
          "text": [
            "Populating the interactive namespace from numpy and matplotlib\n"
          ],
          "name": "stdout"
        }
      ]
    },
    {
      "cell_type": "markdown",
      "metadata": {
        "id": "m7CC_KVqkpXx",
        "colab_type": "text"
      },
      "source": [
        "#### Important!\n",
        "This notebook is to be executed using Google Colaboratory.\n",
        "For it to work, one needs to upload the following files to the google drive or upload them directly and edit the following paths.\n",
        "* loans.csv\n",
        "* LCDataDirectory.xlsx\n",
        "* sumdf.csv - custom made table (it is created later in this notebook)\n",
        "* zipcodes.csv - a zip code lookup table downloaded from git."
      ]
    },
    {
      "cell_type": "code",
      "metadata": {
        "id": "gAhKEhLQJ7FU",
        "colab_type": "code",
        "outputId": "815c46f5-f039-4646-be0d-53616e86c47a",
        "colab": {
          "base_uri": "https://localhost:8080/",
          "height": 124
        }
      },
      "source": [
        "from google.colab import drive\n",
        "drive.mount('/content/drive')"
      ],
      "execution_count": 2,
      "outputs": [
        {
          "output_type": "stream",
          "text": [
            "Go to this URL in a browser: https://accounts.google.com/o/oauth2/auth?client_id=947318989803-6bn6qk8qdgf4n4g3pfee6491hc0brc4i.apps.googleusercontent.com&redirect_uri=urn%3aietf%3awg%3aoauth%3a2.0%3aoob&response_type=code&scope=email%20https%3a%2f%2fwww.googleapis.com%2fauth%2fdocs.test%20https%3a%2f%2fwww.googleapis.com%2fauth%2fdrive%20https%3a%2f%2fwww.googleapis.com%2fauth%2fdrive.photos.readonly%20https%3a%2f%2fwww.googleapis.com%2fauth%2fpeopleapi.readonly\n",
            "\n",
            "Enter your authorization code:\n",
            "··········\n",
            "Mounted at /content/drive\n"
          ],
          "name": "stdout"
        }
      ]
    },
    {
      "cell_type": "markdown",
      "metadata": {
        "id": "IoG7kLI2mKIE",
        "colab_type": "text"
      },
      "source": [
        ""
      ]
    },
    {
      "cell_type": "markdown",
      "metadata": {
        "id": "wHym2KxfmKFi",
        "colab_type": "text"
      },
      "source": [
        ""
      ]
    },
    {
      "cell_type": "markdown",
      "metadata": {
        "id": "xCpoRqqYmKDI",
        "colab_type": "text"
      },
      "source": [
        ""
      ]
    },
    {
      "cell_type": "code",
      "metadata": {
        "id": "PbUin7pArT0L",
        "colab_type": "code",
        "colab": {}
      },
      "source": [
        "# If working on Google Colab, then execute the follwing commands and upload the dataset.\n",
        "DATAPATH = './data'\n",
        "\n",
        "!mkdir \"{DATAPATH}\"\n",
        "\n",
        "!cp '/content/drive/My Drive/loan.csv' \"{DATAPATH}\"\n",
        "!cp '/content/drive/My Drive/LCDataDictionary.xlsx' \"{DATAPATH}\"\n",
        "!cp '/content/drive/My Drive/sumdf.csv' \"{DATAPATH}\"\n",
        "!cp '/content/drive/My Drive/zipcodes.csv' ./zipcodes.csv"
      ],
      "execution_count": 0,
      "outputs": []
    },
    {
      "cell_type": "code",
      "metadata": {
        "id": "DEiaDri6q1Wr",
        "colab_type": "code",
        "colab": {}
      },
      "source": [
        "df = pd.read_csv(join(DATAPATH, 'loan.csv'), low_memory=False)\n",
        "xl = pd.ExcelFile(join(DATAPATH, 'LCDataDictionary.xlsx'))\n",
        "\n",
        "loan_stats   = xl.parse(xl.sheet_names[0])\n",
        "browse_notes = xl.parse(xl.sheet_names[1])\n",
        "reject_stats = xl.parse(xl.sheet_names[2])\n",
        "del xl"
      ],
      "execution_count": 0,
      "outputs": []
    },
    {
      "cell_type": "markdown",
      "metadata": {
        "id": "8OdEGEOqq1W1",
        "colab_type": "text"
      },
      "source": [
        "## Initial data inspection\n",
        "Here we will look into relationships between different data pieces and fundamental qualities such as existence of _missing_ data, _outliers_ and any potiential _inconsistencies_."
      ]
    },
    {
      "cell_type": "markdown",
      "metadata": {
        "id": "yw36zl5lq1W4",
        "colab_type": "text"
      },
      "source": [
        "### Loan status `loan_stats`"
      ]
    },
    {
      "cell_type": "code",
      "metadata": {
        "id": "eL6GOyRBq1W7",
        "colab_type": "code",
        "outputId": "d1cb31cc-27de-4a89-e084-482712704aeb",
        "colab": {
          "base_uri": "https://localhost:8080/",
          "height": 206
        }
      },
      "source": [
        "loan_stats.head()"
      ],
      "execution_count": 5,
      "outputs": [
        {
          "output_type": "execute_result",
          "data": {
            "text/html": [
              "<div>\n",
              "<style scoped>\n",
              "    .dataframe tbody tr th:only-of-type {\n",
              "        vertical-align: middle;\n",
              "    }\n",
              "\n",
              "    .dataframe tbody tr th {\n",
              "        vertical-align: top;\n",
              "    }\n",
              "\n",
              "    .dataframe thead th {\n",
              "        text-align: right;\n",
              "    }\n",
              "</style>\n",
              "<table border=\"1\" class=\"dataframe\">\n",
              "  <thead>\n",
              "    <tr style=\"text-align: right;\">\n",
              "      <th></th>\n",
              "      <th>LoanStatNew</th>\n",
              "      <th>Description</th>\n",
              "    </tr>\n",
              "  </thead>\n",
              "  <tbody>\n",
              "    <tr>\n",
              "      <th>0</th>\n",
              "      <td>acc_now_delinq</td>\n",
              "      <td>The number of accounts on which the borrower i...</td>\n",
              "    </tr>\n",
              "    <tr>\n",
              "      <th>1</th>\n",
              "      <td>acc_open_past_24mths</td>\n",
              "      <td>Number of trades opened in past 24 months.</td>\n",
              "    </tr>\n",
              "    <tr>\n",
              "      <th>2</th>\n",
              "      <td>addr_state</td>\n",
              "      <td>The state provided by the borrower in the loan...</td>\n",
              "    </tr>\n",
              "    <tr>\n",
              "      <th>3</th>\n",
              "      <td>all_util</td>\n",
              "      <td>Balance to credit limit on all trades</td>\n",
              "    </tr>\n",
              "    <tr>\n",
              "      <th>4</th>\n",
              "      <td>annual_inc</td>\n",
              "      <td>The self-reported annual income provided by th...</td>\n",
              "    </tr>\n",
              "  </tbody>\n",
              "</table>\n",
              "</div>"
            ],
            "text/plain": [
              "            LoanStatNew                                        Description\n",
              "0        acc_now_delinq  The number of accounts on which the borrower i...\n",
              "1  acc_open_past_24mths         Number of trades opened in past 24 months.\n",
              "2            addr_state  The state provided by the borrower in the loan...\n",
              "3              all_util              Balance to credit limit on all trades\n",
              "4            annual_inc  The self-reported annual income provided by th..."
            ]
          },
          "metadata": {
            "tags": []
          },
          "execution_count": 5
        }
      ]
    },
    {
      "cell_type": "code",
      "metadata": {
        "id": "wHTsc4Uzq1XE",
        "colab_type": "code",
        "outputId": "26255dc2-da76-4de8-f1b4-aaf418f24ced",
        "colab": {
          "base_uri": "https://localhost:8080/",
          "height": 69
        }
      },
      "source": [
        "print(\"Missing data: {} rows out of {} rows in total.\".format(len(loan_stats) - loan_stats.dropna().shape[0], len(loan_stats)))\n",
        "print(\"Are all values in `LoanStatNew` unique? {}\".format(len(loan_stats['LoanStatNew'].unique()) == len(loan_stats)))\n",
        "print(\"Are all values in `Description` unique? {}\".format(len(loan_stats['Description'].unique()) == len(loan_stats)))"
      ],
      "execution_count": 6,
      "outputs": [
        {
          "output_type": "stream",
          "text": [
            "Missing data: 2 rows out of 153 rows in total.\n",
            "Are all values in `LoanStatNew` unique? False\n",
            "Are all values in `Description` unique? True\n"
          ],
          "name": "stdout"
        }
      ]
    },
    {
      "cell_type": "code",
      "metadata": {
        "id": "G2AVBjkxq1XL",
        "colab_type": "code",
        "colab": {}
      },
      "source": [
        "# basic data cleaning\n",
        "loan_stats = loan_stats.dropna()\n",
        "loan_stats['LoanStatNew'] = loan_stats['LoanStatNew'].str.replace(' ', '')\n",
        "loan_stats['LoanStatNew'] = loan_stats['LoanStatNew'].str.lower()\n",
        "\n",
        "#print(loan_stats.to_string()) # <- uncomment to display all the values."
      ],
      "execution_count": 0,
      "outputs": []
    },
    {
      "cell_type": "markdown",
      "metadata": {
        "id": "4PS7g_6Sq1XS",
        "colab_type": "text"
      },
      "source": [
        "The `loan_stats` is an auxiliary table that provides information about possible loan status (codes). It possesses good descriptions, but understanding it deeply requires domain expertise.\n",
        "What is important at this stage is that we have:\n",
        "* 151 **unique** codes, which are all delimited with an _underscore_ and written in small letters.\n",
        "\n",
        "Perhaps that should be a convention?"
      ]
    },
    {
      "cell_type": "markdown",
      "metadata": {
        "id": "ljlK4Nk8q1XU",
        "colab_type": "text"
      },
      "source": [
        "### Browse Notes `browse_notes`"
      ]
    },
    {
      "cell_type": "code",
      "metadata": {
        "id": "CD6Ktfygq1XV",
        "colab_type": "code",
        "outputId": "8449a25a-cd0d-48b2-838b-f105aa4a444f",
        "colab": {
          "base_uri": "https://localhost:8080/",
          "height": 206
        }
      },
      "source": [
        "browse_notes.head()"
      ],
      "execution_count": 8,
      "outputs": [
        {
          "output_type": "execute_result",
          "data": {
            "text/html": [
              "<div>\n",
              "<style scoped>\n",
              "    .dataframe tbody tr th:only-of-type {\n",
              "        vertical-align: middle;\n",
              "    }\n",
              "\n",
              "    .dataframe tbody tr th {\n",
              "        vertical-align: top;\n",
              "    }\n",
              "\n",
              "    .dataframe thead th {\n",
              "        text-align: right;\n",
              "    }\n",
              "</style>\n",
              "<table border=\"1\" class=\"dataframe\">\n",
              "  <thead>\n",
              "    <tr style=\"text-align: right;\">\n",
              "      <th></th>\n",
              "      <th>BrowseNotesFile</th>\n",
              "      <th>Description</th>\n",
              "    </tr>\n",
              "  </thead>\n",
              "  <tbody>\n",
              "    <tr>\n",
              "      <th>0</th>\n",
              "      <td>acceptD</td>\n",
              "      <td>The date which the borrower accepted  the offer</td>\n",
              "    </tr>\n",
              "    <tr>\n",
              "      <th>1</th>\n",
              "      <td>accNowDelinq</td>\n",
              "      <td>The number of accounts on which the borrower i...</td>\n",
              "    </tr>\n",
              "    <tr>\n",
              "      <th>2</th>\n",
              "      <td>accOpenPast24Mths</td>\n",
              "      <td>Number of trades opened in past 24 months.</td>\n",
              "    </tr>\n",
              "    <tr>\n",
              "      <th>3</th>\n",
              "      <td>addrState</td>\n",
              "      <td>The state provided by the borrower in the loan...</td>\n",
              "    </tr>\n",
              "    <tr>\n",
              "      <th>4</th>\n",
              "      <td>all_util</td>\n",
              "      <td>Balance to credit limit on all trades</td>\n",
              "    </tr>\n",
              "  </tbody>\n",
              "</table>\n",
              "</div>"
            ],
            "text/plain": [
              "     BrowseNotesFile                                        Description\n",
              "0            acceptD    The date which the borrower accepted  the offer\n",
              "1       accNowDelinq  The number of accounts on which the borrower i...\n",
              "2  accOpenPast24Mths         Number of trades opened in past 24 months.\n",
              "3          addrState  The state provided by the borrower in the loan...\n",
              "4           all_util              Balance to credit limit on all trades"
            ]
          },
          "metadata": {
            "tags": []
          },
          "execution_count": 8
        }
      ]
    },
    {
      "cell_type": "code",
      "metadata": {
        "id": "0UUzb-YUq1Xe",
        "colab_type": "code",
        "outputId": "23c07fa7-9b41-410d-dcbd-fe19630edf8e",
        "colab": {
          "base_uri": "https://localhost:8080/",
          "height": 69
        }
      },
      "source": [
        "print(\"Missing data: {} rows out of {} rows in total.\".format(len(browse_notes) - browse_notes.dropna().shape[0], len(browse_notes)))\n",
        "print(\"Are all values in `LoanStatNew` unique? {}\".format(len(browse_notes['BrowseNotesFile'].unique()) == len(browse_notes)))\n",
        "print(\"Are all values in `Description` unique? {}\".format(len(browse_notes['Description'].unique()) == len(browse_notes)))"
      ],
      "execution_count": 9,
      "outputs": [
        {
          "output_type": "stream",
          "text": [
            "Missing data: 2 rows out of 122 rows in total.\n",
            "Are all values in `LoanStatNew` unique? False\n",
            "Are all values in `Description` unique? True\n"
          ],
          "name": "stdout"
        }
      ]
    },
    {
      "cell_type": "code",
      "metadata": {
        "id": "bu6Ta8Rqq1Xk",
        "colab_type": "code",
        "colab": {}
      },
      "source": [
        "browse_notes = browse_notes.dropna()"
      ],
      "execution_count": 0,
      "outputs": []
    },
    {
      "cell_type": "code",
      "metadata": {
        "id": "dzg5Dij4q1Xr",
        "colab_type": "code",
        "colab": {}
      },
      "source": [
        "import re\n",
        "\n",
        "def camel2snake(name):\n",
        "    s1 = re.sub('(.)([A-Z][a-z]+)', r'\\1_\\2', name)\n",
        "    return re.sub('([a-z0-9])([A-Z])', r'\\1_\\2', s1).lower()\n",
        "\n",
        "browse_notes = browse_notes.copy()\n",
        "browse_notes['BrowseNotesFile'] = browse_notes['BrowseNotesFile'].apply(lambda x: camel2snake(x))"
      ],
      "execution_count": 0,
      "outputs": []
    },
    {
      "cell_type": "code",
      "metadata": {
        "id": "yMPhV3dUq1Xy",
        "colab_type": "code",
        "outputId": "7518cb17-6aab-4455-ac56-c60f14c9d7a3",
        "colab": {
          "base_uri": "https://localhost:8080/",
          "height": 34
        }
      },
      "source": [
        "print(\"Code words in `loan_stats` that overlap with the `browse_notes`: {}\".format(\n",
        "    len(set(browse_notes['BrowseNotesFile']).intersection(set(loan_stats['LoanStatNew'])))))"
      ],
      "execution_count": 12,
      "outputs": [
        {
          "output_type": "stream",
          "text": [
            "Code words in `loan_stats` that overlap with the `browse_notes`: 88\n"
          ],
          "name": "stdout"
        }
      ]
    },
    {
      "cell_type": "markdown",
      "metadata": {
        "id": "A6OC4nqOq1X4",
        "colab_type": "text"
      },
      "source": [
        "### Reject Status `reject_stats`"
      ]
    },
    {
      "cell_type": "code",
      "metadata": {
        "id": "cgfC2_kiq1X7",
        "colab_type": "code",
        "outputId": "d2a3e193-11f9-44b9-8b0b-b382c7ed984e",
        "colab": {
          "base_uri": "https://localhost:8080/",
          "height": 332
        }
      },
      "source": [
        "reject_stats.head(9)"
      ],
      "execution_count": 13,
      "outputs": [
        {
          "output_type": "execute_result",
          "data": {
            "text/html": [
              "<div>\n",
              "<style scoped>\n",
              "    .dataframe tbody tr th:only-of-type {\n",
              "        vertical-align: middle;\n",
              "    }\n",
              "\n",
              "    .dataframe tbody tr th {\n",
              "        vertical-align: top;\n",
              "    }\n",
              "\n",
              "    .dataframe thead th {\n",
              "        text-align: right;\n",
              "    }\n",
              "</style>\n",
              "<table border=\"1\" class=\"dataframe\">\n",
              "  <thead>\n",
              "    <tr style=\"text-align: right;\">\n",
              "      <th></th>\n",
              "      <th>RejectStats File</th>\n",
              "      <th>Description</th>\n",
              "    </tr>\n",
              "  </thead>\n",
              "  <tbody>\n",
              "    <tr>\n",
              "      <th>0</th>\n",
              "      <td>Amount Requested</td>\n",
              "      <td>The total amount requested by the borrower</td>\n",
              "    </tr>\n",
              "    <tr>\n",
              "      <th>1</th>\n",
              "      <td>Application Date</td>\n",
              "      <td>The date which the borrower applied</td>\n",
              "    </tr>\n",
              "    <tr>\n",
              "      <th>2</th>\n",
              "      <td>Loan Title</td>\n",
              "      <td>The loan title provided by the borrower</td>\n",
              "    </tr>\n",
              "    <tr>\n",
              "      <th>3</th>\n",
              "      <td>Risk_Score</td>\n",
              "      <td>For applications prior to November 5, 2013 the...</td>\n",
              "    </tr>\n",
              "    <tr>\n",
              "      <th>4</th>\n",
              "      <td>Debt-To-Income Ratio</td>\n",
              "      <td>A ratio calculated using the borrower’s total ...</td>\n",
              "    </tr>\n",
              "    <tr>\n",
              "      <th>5</th>\n",
              "      <td>Zip Code</td>\n",
              "      <td>The first 3 numbers of the zip code provided b...</td>\n",
              "    </tr>\n",
              "    <tr>\n",
              "      <th>6</th>\n",
              "      <td>State</td>\n",
              "      <td>The state provided by the borrower in the loan...</td>\n",
              "    </tr>\n",
              "    <tr>\n",
              "      <th>7</th>\n",
              "      <td>Employment Length</td>\n",
              "      <td>Employment length in years. Possible values ar...</td>\n",
              "    </tr>\n",
              "    <tr>\n",
              "      <th>8</th>\n",
              "      <td>Policy Code</td>\n",
              "      <td>publicly available policy_code=1\\nnew products...</td>\n",
              "    </tr>\n",
              "  </tbody>\n",
              "</table>\n",
              "</div>"
            ],
            "text/plain": [
              "       RejectStats File                                        Description\n",
              "0      Amount Requested         The total amount requested by the borrower\n",
              "1      Application Date               The date which the borrower applied \n",
              "2            Loan Title            The loan title provided by the borrower\n",
              "3            Risk_Score  For applications prior to November 5, 2013 the...\n",
              "4  Debt-To-Income Ratio  A ratio calculated using the borrower’s total ...\n",
              "5              Zip Code  The first 3 numbers of the zip code provided b...\n",
              "6                 State  The state provided by the borrower in the loan...\n",
              "7     Employment Length  Employment length in years. Possible values ar...\n",
              "8           Policy Code  publicly available policy_code=1\\nnew products..."
            ]
          },
          "metadata": {
            "tags": []
          },
          "execution_count": 13
        }
      ]
    },
    {
      "cell_type": "markdown",
      "metadata": {
        "id": "d3lOrWZBq1YB",
        "colab_type": "text"
      },
      "source": [
        "This is just the description of some sort. It does not require cleaning at this stage. Let's inspect the main `loans.csv` file."
      ]
    },
    {
      "cell_type": "markdown",
      "metadata": {
        "id": "Jn-tT0mRq1YC",
        "colab_type": "text"
      },
      "source": [
        "### Loans `df`"
      ]
    },
    {
      "cell_type": "code",
      "metadata": {
        "id": "LcFpUihnq1YI",
        "colab_type": "code",
        "colab": {}
      },
      "source": [
        "coldf = pd.DataFrame({'features': df.columns})\n",
        "coldf = pd.merge(coldf, loan_stats, how='left', left_on='features', right_on='LoanStatNew')\n",
        "coldf = coldf.drop(columns='LoanStatNew')\n",
        "coldf = coldf.rename(columns={'Description': 'loan_stats_desc'})\n",
        "\n",
        "coldf = pd.merge(coldf, browse_notes, how='left', left_on='features', right_on='BrowseNotesFile')\n",
        "coldf = coldf.drop(columns='BrowseNotesFile')\n",
        "coldf = coldf.rename(columns={'Description': 'browse_notes_desc'})\n",
        "\n",
        "# print(coldf.to_string())"
      ],
      "execution_count": 0,
      "outputs": []
    },
    {
      "cell_type": "code",
      "metadata": {
        "id": "WI85nJWGq1YN",
        "colab_type": "code",
        "colab": {}
      },
      "source": [
        "if False:\n",
        "  sumdf = pd.DataFrame(df.dtypes, columns=['dtypes'])\n",
        "  sumdf = sumdf.reset_index()\n",
        "  sumdf = sumdf.rename(columns={'index': 'feature'})\n",
        "  sumdf['missing %'] = df.isnull().sum().values / len(df) * 100\n",
        "  sumdf['unique %'] = df.nunique().values / len(df) * 100\n",
        "  sumdf['1st value'] = df.loc[0].values\n",
        "  sumdf['2nd value'] = df.loc[1].values\n",
        "else:\n",
        "  sumdf = pd.read_csv(join(DATAPATH, 'sumdf.csv'))\n",
        "\n",
        "sumdf = sumdf[[c for c in sumdf.columns if not c.startswith('Unnamed')]]"
      ],
      "execution_count": 0,
      "outputs": []
    },
    {
      "cell_type": "code",
      "metadata": {
        "id": "lYWW05ZYq1YS",
        "colab_type": "code",
        "outputId": "72655a48-5559-41ca-bb49-9cf534fe2647",
        "colab": {
          "base_uri": "https://localhost:8080/",
          "height": 1000
        }
      },
      "source": [
        "print(sumdf.to_string())"
      ],
      "execution_count": 16,
      "outputs": [
        {
          "output_type": "stream",
          "text": [
            "                                        feature   dtypes   missing %   unique %           1st value           2nd value\n",
            "0                                            id  float64  100.000000   0.000000                 NaN                 NaN\n",
            "1                                     member_id  float64  100.000000   0.000000                 NaN                 NaN\n",
            "2                                     loan_amnt    int64    0.000000   0.069537                2500               30000\n",
            "3                                   funded_amnt    int64    0.000000   0.069537                2500               30000\n",
            "4                               funded_amnt_inv  float64    0.000000   0.444869              2500.0             30000.0\n",
            "5                                          term   object    0.000000   0.000088           36 months           60 months\n",
            "6                                      int_rate  float64    0.000000   0.029770               13.56               18.94\n",
            "7                                   installment  float64    0.000000   4.126922               84.92              777.23\n",
            "8                                         grade   object    0.000000   0.000310                   C                   D\n",
            "9                                     sub_grade   object    0.000000   0.001548                  C1                  D2\n",
            "10                                    emp_title   object    7.385826  22.678872                Chef         Postmaster \n",
            "11                                   emp_length   object    6.498389   0.000487           10+ years           10+ years\n",
            "12                               home_ownership   object    0.000000   0.000265                RENT            MORTGAGE\n",
            "13                                   annual_inc  float64    0.000177   3.953168             55000.0             90000.0\n",
            "14                          verification_status   object    0.000000   0.000133        Not Verified     Source Verified\n",
            "15                                      issue_d   object    0.000000   0.006149            Dec-2018            Dec-2018\n",
            "16                                  loan_status   object    0.000000   0.000398             Current             Current\n",
            "17                                   pymnt_plan   object    0.000000   0.000088                   n                   n\n",
            "18                                          url  float64  100.000000   0.000000                 NaN                 NaN\n",
            "19                                         desc   object   94.423462   5.507266                 NaN                 NaN\n",
            "20                                      purpose   object    0.000000   0.000619  debt_consolidation  debt_consolidation\n",
            "21                                        title   object    1.031775   2.793643  Debt consolidation  Debt consolidation\n",
            "22                                     zip_code   object    0.000044   0.042288               109xx               713xx\n",
            "23                                   addr_state   object    0.000000   0.002256                  NY                  LA\n",
            "24                                          dti  float64    0.075686   0.479725               18.24               26.52\n",
            "25                                  delinq_2yrs  float64    0.001283   0.001637                 0.0                 0.0\n",
            "26                             earliest_cr_line   object    0.001283   0.033353            Apr-2001            Jun-1987\n",
            "27                               inq_last_6mths  float64    0.001327   0.001239                 1.0                 0.0\n",
            "28                       mths_since_last_delinq  float64   51.246003   0.007653                 NaN                71.0\n",
            "29                       mths_since_last_record  float64   84.112837   0.005706                45.0                75.0\n",
            "30                                     open_acc  float64    0.001283   0.004025                 9.0                13.0\n",
            "31                                      pub_rec  float64    0.001283   0.001902                 1.0                 1.0\n",
            "32                                    revol_bal    int64    0.000000   4.523044                4341               12315\n",
            "33                                   revol_util  float64    0.079711   0.063256                10.3                24.2\n",
            "34                                    total_acc  float64    0.001283   0.006724                34.0                44.0\n",
            "35                          initial_list_status   object    0.000000   0.000088                   w                   w\n",
            "36                                    out_prncp  float64    0.000000  16.119085             2386.02            29387.75\n",
            "37                                out_prncp_inv  float64    0.000000  16.692102             2386.02            29387.75\n",
            "38                                  total_pymnt  float64    0.000000  71.141450              167.02             1507.11\n",
            "39                              total_pymnt_inv  float64    0.000000  57.464829              167.02             1507.11\n",
            "40                              total_rec_prncp  float64    0.000000  21.561193              113.98              612.25\n",
            "41                                total_rec_int  float64    0.000000  27.860570               53.04              894.86\n",
            "42                           total_rec_late_fee  float64    0.000000   0.795827                 0.0                 0.0\n",
            "43                                   recoveries  float64    0.000000   5.658504                 0.0                 0.0\n",
            "44                      collection_recovery_fee  float64    0.000000   6.212721                 0.0                 0.0\n",
            "45                                 last_pymnt_d   object    0.107313   0.005972            Feb-2019            Feb-2019\n",
            "46                              last_pymnt_amnt  float64    0.000000  30.635193               84.92              777.23\n",
            "47                                 next_pymnt_d   object   57.664681   0.004645            Mar-2019            Mar-2019\n",
            "48                           last_credit_pull_d   object    0.003229   0.006193            Feb-2019            Feb-2019\n",
            "49                   collections_12_mths_ex_med  float64    0.006414   0.000708                 0.0                 0.0\n",
            "50                  mths_since_last_major_derog  float64   74.309585   0.008095                 NaN                 NaN\n",
            "51                                  policy_code    int64    0.000000   0.000044                   1                   1\n",
            "52                             application_type   object    0.000000   0.000088          Individual          Individual\n",
            "53                             annual_inc_joint  float64   94.660428   0.779991                 NaN                 NaN\n",
            "54                                    dti_joint  float64   94.660605   0.177735                 NaN                 NaN\n",
            "55                    verification_status_joint   object   94.880717   0.000133                 NaN                 NaN\n",
            "56                               acc_now_delinq  float64    0.001283   0.000398                 0.0                 0.0\n",
            "57                                 tot_coll_amt  float64    3.108639   0.688911                 0.0              1208.0\n",
            "58                                  tot_cur_bal  float64    3.108639  21.572739             16901.0            321915.0\n",
            "59                                  open_acc_6m  float64   38.313012   0.000840                 2.0                 4.0\n",
            "60                                  open_act_il  float64   38.312968   0.002389                 2.0                 4.0\n",
            "61                                  open_il_12m  float64   38.312968   0.000840                 1.0                 2.0\n",
            "62                                  open_il_24m  float64   38.312968   0.001371                 2.0                 3.0\n",
            "63                           mths_since_rcnt_il  float64   40.250227   0.017915                 2.0                 3.0\n",
            "64                                 total_bal_il  float64   38.312968   7.177038             12560.0             87153.0\n",
            "65                                      il_util  float64   47.280273   0.012386                69.0                88.0\n",
            "66                                  open_rv_12m  float64   38.312968   0.001283                 2.0                 4.0\n",
            "67                                  open_rv_24m  float64   38.312968   0.002212                 7.0                 5.0\n",
            "68                                   max_bal_bc  float64   38.312968   1.491860              2137.0               998.0\n",
            "69                                     all_util  float64   38.322655   0.008316                28.0                57.0\n",
            "70                             total_rev_hi_lim  float64    3.108639   1.513712             42000.0             50800.0\n",
            "71                                       inq_fi  float64   38.312968   0.001460                 1.0                 2.0\n",
            "72                                  total_cu_tl  float64   38.313012   0.002743                11.0                15.0\n",
            "73                                 inq_last_12m  float64   38.313012   0.002123                 2.0                 2.0\n",
            "74                         acc_open_past_24mths  float64    2.213063   0.002521                 9.0                10.0\n",
            "75                                  avg_cur_bal  float64    3.111735   3.919063              1878.0             24763.0\n",
            "76                               bc_open_to_buy  float64    3.314728   4.047476             34360.0             13761.0\n",
            "77                                      bc_util  float64    3.364979   0.066087                 5.9                 8.3\n",
            "78                     chargeoff_within_12_mths  float64    0.006414   0.000487                 0.0                 0.0\n",
            "79                                  delinq_amnt  float64    0.001283   0.115762                 0.0                 0.0\n",
            "80                           mo_sin_old_il_acct  float64    6.151766   0.025037               140.0               163.0\n",
            "81                         mo_sin_old_rev_tl_op  float64    3.108683   0.034813               212.0               378.0\n",
            "82                        mo_sin_rcnt_rev_tl_op  float64    3.108683   0.014730                 1.0                 4.0\n",
            "83                               mo_sin_rcnt_tl  float64    3.108639   0.010262                 1.0                 3.0\n",
            "84                                     mort_acc  float64    2.213063   0.002079                 0.0                 3.0\n",
            "85                         mths_since_recent_bc  float64    3.247359   0.024152                 1.0                 4.0\n",
            "86                     mths_since_recent_bc_dlq  float64   77.011175   0.007830                 NaN                 NaN\n",
            "87                        mths_since_recent_inq  float64   13.068482   0.001150                 2.0                 4.0\n",
            "88               mths_since_recent_revol_delinq  float64   67.250432   0.007918                 NaN                 NaN\n",
            "89                        num_accts_ever_120_pd  float64    3.108639   0.001946                 0.0                 0.0\n",
            "90                               num_actv_bc_tl  float64    3.108639   0.001858                 2.0                 2.0\n",
            "91                              num_actv_rev_tl  float64    3.108639   0.002521                 5.0                 4.0\n",
            "92                                  num_bc_sats  float64    2.591712   0.002654                 3.0                 4.0\n",
            "93                                    num_bc_tl  float64    3.108639   0.003362                 3.0                 9.0\n",
            "94                                    num_il_tl  float64    3.108639   0.005397                16.0                27.0\n",
            "95                                num_op_rev_tl  float64    3.108639   0.003583                 7.0                 8.0\n",
            "96                                num_rev_accts  float64    3.108683   0.005175                18.0                14.0\n",
            "97                          num_rev_tl_bal_gt_0  float64    3.108639   0.002212                 5.0                 4.0\n",
            "98                                     num_sats  float64    2.591712   0.004025                 9.0                13.0\n",
            "99                             num_tl_120dpd_2m  float64    6.796973   0.000310                 0.0                 0.0\n",
            "100                                num_tl_30dpd  float64    3.108639   0.000221                 0.0                 0.0\n",
            "101                          num_tl_90g_dpd_24m  float64    3.108639   0.001504                 0.0                 0.0\n",
            "102                          num_tl_op_past_12m  float64    3.108639   0.001460                 3.0                 6.0\n",
            "103                              pct_tl_nvr_dlq  float64    3.115495   0.030522               100.0                95.0\n",
            "104                            percent_bc_gt_75  float64    3.334368   0.012563                 0.0                 0.0\n",
            "105                        pub_rec_bankruptcies  float64    0.060380   0.000531                 1.0                 1.0\n",
            "106                                   tax_liens  float64    0.004645   0.001858                 0.0                 0.0\n",
            "107                             tot_hi_cred_lim  float64    3.108639  23.443159             60124.0            372872.0\n",
            "108                           total_bal_ex_mort  float64    2.213063   9.412130             16901.0             99468.0\n",
            "109                              total_bc_limit  float64    2.213063   0.898363             36500.0             15000.0\n",
            "110                  total_il_high_credit_limit  float64    3.108639   8.587594             18124.0             94072.0\n",
            "111                             revol_bal_joint  float64   95.221766   2.515849                 NaN                 NaN\n",
            "112                    sec_app_earliest_cr_line   object   95.221722   0.029328                 NaN                 NaN\n",
            "113                      sec_app_inq_last_6mths  float64   95.221722   0.000310                 NaN                 NaN\n",
            "114                            sec_app_mort_acc  float64   95.221722   0.001017                 NaN                 NaN\n",
            "115                            sec_app_open_acc  float64   95.221722   0.002964                 NaN                 NaN\n",
            "116                          sec_app_revol_util  float64   95.302981   0.053789                 NaN                 NaN\n",
            "117                         sec_app_open_act_il  float64   95.221722   0.001769                 NaN                 NaN\n",
            "118                       sec_app_num_rev_accts  float64   95.221722   0.003804                 NaN                 NaN\n",
            "119            sec_app_chargeoff_within_12_mths  float64   95.221722   0.000973                 NaN                 NaN\n",
            "120          sec_app_collections_12_mths_ex_med  float64   95.221722   0.000796                 NaN                 NaN\n",
            "121         sec_app_mths_since_last_major_derog  float64   98.410116   0.006193                 NaN                 NaN\n",
            "122                               hardship_flag   object    0.000000   0.000088                   N                   N\n",
            "123                               hardship_type   object   99.530537   0.000044                 NaN                 NaN\n",
            "124                             hardship_reason   object   99.530537   0.000398                 NaN                 NaN\n",
            "125                             hardship_status   object   99.530537   0.000133                 NaN                 NaN\n",
            "126                               deferral_term  float64   99.530537   0.000044                 NaN                 NaN\n",
            "127                             hardship_amount  float64   99.530537   0.395901                 NaN                 NaN\n",
            "128                         hardship_start_date   object   99.530537   0.001150                 NaN                 NaN\n",
            "129                           hardship_end_date   object   99.530537   0.001194                 NaN                 NaN\n",
            "130                     payment_plan_start_date   object   99.530537   0.001150                 NaN                 NaN\n",
            "131                             hardship_length  float64   99.530537   0.000044                 NaN                 NaN\n",
            "132                                hardship_dpd  float64   99.530537   0.001504                 NaN                 NaN\n",
            "133                        hardship_loan_status   object   99.530537   0.000221                 NaN                 NaN\n",
            "134  orig_projected_additional_accrued_interest  float64   99.627278   0.323488                 NaN                 NaN\n",
            "135              hardship_payoff_balance_amount  float64   99.530537   0.468490                 NaN                 NaN\n",
            "136                hardship_last_payment_amount  float64   99.530537   0.389044                 NaN                 NaN\n",
            "137                         disbursement_method   object    0.000000   0.000088                Cash                Cash\n",
            "138                        debt_settlement_flag   object    0.000000   0.000088                   N                   N\n",
            "139                   debt_settlement_flag_date   object   98.537777   0.003627                 NaN                 NaN\n",
            "140                           settlement_status   object   98.537777   0.000133                 NaN                 NaN\n",
            "141                             settlement_date   object   98.537777   0.003937                 NaN                 NaN\n",
            "142                           settlement_amount  float64   98.537777   0.951887                 NaN                 NaN\n",
            "143                       settlement_percentage  float64   98.537777   0.090460                 NaN                 NaN\n",
            "144                             settlement_term  float64   98.537777   0.001769                 NaN                 NaN\n"
          ],
          "name": "stdout"
        }
      ]
    },
    {
      "cell_type": "markdown",
      "metadata": {
        "id": "8H26WAeRXTZI",
        "colab_type": "text"
      },
      "source": [
        "Since the goal of this project is **not** a data science task, meaning that we are not required to create any predictive model, we will _switch our mindset_.\n",
        "Namely, we will focus much more on finding relationships between the data objects, and suggest **engineering standards** rather then trying to build deep statistical insights about the data.\n",
        "\n",
        "The `loan.csv` file is a relatively large table that consists of 154 _features_ and over 22 milion rows.\n",
        "We need to find out which features are useful (e.g. elminate those features that are all-empty), and organize them in a logical structure, which we can model using of a relational database.\n",
        "\n",
        "For this reason, we shall now go one by one, discuss the feature and ispect its basic properties. We will also try to suggest of a standard when it comes to naming and represetnation (althogh this is partly done by the data vendors of Kaggle already). This activity can be understood as an attempt to conclude on the end represnetation of the data, which the data pipeline will be bound to deliver."
      ]
    },
    {
      "cell_type": "code",
      "metadata": {
        "id": "cDZL1dmIR1Nw",
        "colab_type": "code",
        "colab": {}
      },
      "source": [
        "sumdf.to_csv(join(DATAPATH, 'sumdf.csv'))"
      ],
      "execution_count": 0,
      "outputs": []
    },
    {
      "cell_type": "code",
      "metadata": {
        "id": "FtYgFbQVZztc",
        "colab_type": "code",
        "colab": {}
      },
      "source": [
        "dfc = df.copy()\n",
        "comments = {}"
      ],
      "execution_count": 0,
      "outputs": []
    },
    {
      "cell_type": "markdown",
      "metadata": {
        "id": "hsFNC6-NZnnO",
        "colab_type": "text"
      },
      "source": [
        "## Feature qualities and represntation\n",
        "### 0: `id`"
      ]
    },
    {
      "cell_type": "code",
      "metadata": {
        "id": "c1WWZq-qq1Yi",
        "colab_type": "code",
        "outputId": "0e6c9b28-4250-4eed-9e04-aed68c3ce532",
        "colab": {
          "base_uri": "https://localhost:8080/",
          "height": 52
        }
      },
      "source": [
        "FEATURE = 'id'\n",
        "print(loan_stats[loan_stats['LoanStatNew'] == FEATURE].Description.to_string())\n",
        "print('Contains only null values: {}.'.format(dfc[FEATURE].isna().sum() == len(dfc)))\n",
        "\n",
        "comments[FEATURE] = 'Enforce in DB.'"
      ],
      "execution_count": 19,
      "outputs": [
        {
          "output_type": "stream",
          "text": [
            "27    A unique LC assigned ID for the loan listing.\n",
            "Contains only null values: True.\n"
          ],
          "name": "stdout"
        }
      ]
    },
    {
      "cell_type": "markdown",
      "metadata": {
        "id": "TB2PoT6RcMmF",
        "colab_type": "text"
      },
      "source": [
        "**Note:** Although the `id` key is providing all _null_ values, it has a valid explanation in production. Statistians and machine learning experts might not be interested in it from the research perspective, but for engineering purposes we will have to have it."
      ]
    },
    {
      "cell_type": "markdown",
      "metadata": {
        "id": "pPam54ifcsKL",
        "colab_type": "text"
      },
      "source": [
        "### 1: `member_id`"
      ]
    },
    {
      "cell_type": "code",
      "metadata": {
        "id": "qCtql8R1q1Yl",
        "colab_type": "code",
        "outputId": "7f28dc29-31a7-4713-897c-a59f5df618d2",
        "colab": {
          "base_uri": "https://localhost:8080/",
          "height": 52
        }
      },
      "source": [
        "FEATURE = 'member_id'\n",
        "print(loan_stats[loan_stats['LoanStatNew'] == FEATURE].Description.to_string())\n",
        "print('Contains only null values: {}.'.format(dfc[FEATURE].isna().sum() == len(dfc)))\n",
        "\n",
        "comments[FEATURE] = 'Enforce in DB.'"
      ],
      "execution_count": 20,
      "outputs": [
        {
          "output_type": "stream",
          "text": [
            "44    A unique LC assigned Id for the borrower member.\n",
            "Contains only null values: True.\n"
          ],
          "name": "stdout"
        }
      ]
    },
    {
      "cell_type": "markdown",
      "metadata": {
        "id": "4jsIg4o1dF41",
        "colab_type": "text"
      },
      "source": [
        "Same as before. We need to resolve differnet members."
      ]
    },
    {
      "cell_type": "markdown",
      "metadata": {
        "id": "0HvvImeGdPRA",
        "colab_type": "text"
      },
      "source": [
        "### 2: `loan_amnt`"
      ]
    },
    {
      "cell_type": "code",
      "metadata": {
        "id": "6FliBVHPdD6b",
        "colab_type": "code",
        "outputId": "c5514e51-b89b-4aaa-fe2d-08714e2ab968",
        "colab": {
          "base_uri": "https://localhost:8080/",
          "height": 191
        }
      },
      "source": [
        "FEATURE = 'loan_amnt'\n",
        "print(loan_stats[loan_stats['LoanStatNew'] == FEATURE].Description.to_string())\n",
        "print(dfc[FEATURE].describe())\n",
        "\n",
        "dfc[FEATURE] = dfc[FEATURE].astype(np.int32) # given the range, we can reduce the memory footprint"
      ],
      "execution_count": 21,
      "outputs": [
        {
          "output_type": "stream",
          "text": [
            "41    The listed amount of the loan applied for by t...\n",
            "count    2.260668e+06\n",
            "mean     1.504693e+04\n",
            "std      9.190245e+03\n",
            "min      5.000000e+02\n",
            "25%      8.000000e+03\n",
            "50%      1.290000e+04\n",
            "75%      2.000000e+04\n",
            "max      4.000000e+04\n",
            "Name: loan_amnt, dtype: float64\n"
          ],
          "name": "stdout"
        }
      ]
    },
    {
      "cell_type": "code",
      "metadata": {
        "id": "zdI-fV6jq1Yq",
        "colab_type": "code",
        "outputId": "7ea2478f-11e4-4103-e4fc-be25e40f3bc7",
        "colab": {
          "base_uri": "https://localhost:8080/",
          "height": 405
        }
      },
      "source": [
        "dfc[FEATURE].hist(bins=15, color='orange')\n",
        "dfc[FEATURE].hist(bins=125, color='r')\n",
        "\n",
        "plt.xlabel(FEATURE)\n",
        "plt.ylabel('Frequency of occurrence')\n",
        "plt.title(loan_stats[loan_stats['LoanStatNew'] == FEATURE].Description.to_string())\n",
        "plt.show()\n",
        "\n",
        "comments[FEATURE] = 'Model as int32.'"
      ],
      "execution_count": 22,
      "outputs": [
        {
          "output_type": "display_data",
          "data": {
            "image/png": "[encoded data removed]",
            "text/plain": [
              "<Figure size 1008x432 with 1 Axes>"
            ]
          },
          "metadata": {
            "tags": []
          }
        }
      ]
    },
    {
      "cell_type": "markdown",
      "metadata": {
        "id": "HSXI0orsfOW5",
        "colab_type": "text"
      },
      "source": [
        "This is a number (in unkown currency). There is a user preference to seek round numbers for loan."
      ]
    },
    {
      "cell_type": "markdown",
      "metadata": {
        "id": "bbM-icEgj44q",
        "colab_type": "text"
      },
      "source": [
        "### 3: funded_amnt"
      ]
    },
    {
      "cell_type": "code",
      "metadata": {
        "id": "nkQPZY4Aq1Yv",
        "colab_type": "code",
        "outputId": "30af22ff-cc81-44ac-ee0c-4cf42d15ad40",
        "colab": {
          "base_uri": "https://localhost:8080/",
          "height": 191
        }
      },
      "source": [
        "FEATURE = 'funded_amnt'\n",
        "print(loan_stats[loan_stats['LoanStatNew'] == FEATURE].Description.to_string())\n",
        "print(dfc[FEATURE].describe())"
      ],
      "execution_count": 23,
      "outputs": [
        {
          "output_type": "stream",
          "text": [
            "23    The total amount committed to that loan at tha...\n",
            "count    2.260668e+06\n",
            "mean     1.504166e+04\n",
            "std      9.188413e+03\n",
            "min      5.000000e+02\n",
            "25%      8.000000e+03\n",
            "50%      1.287500e+04\n",
            "75%      2.000000e+04\n",
            "max      4.000000e+04\n",
            "Name: funded_amnt, dtype: float64\n"
          ],
          "name": "stdout"
        }
      ]
    },
    {
      "cell_type": "code",
      "metadata": {
        "id": "ONwK_yL6q1Y0",
        "colab_type": "code",
        "outputId": "c3c8ea99-d46d-4354-b8ed-78ee77d9f353",
        "colab": {
          "base_uri": "https://localhost:8080/",
          "height": 405
        }
      },
      "source": [
        "dfc[FEATURE].hist(bins=15, color='orange')\n",
        "dfc[FEATURE].hist(bins=125, color='r')\n",
        "\n",
        "plt.xlabel(FEATURE)\n",
        "plt.ylabel('Frequency of occurrence')\n",
        "plt.title(loan_stats[loan_stats['LoanStatNew'] == FEATURE].Description.to_string())\n",
        "plt.show()"
      ],
      "execution_count": 24,
      "outputs": [
        {
          "output_type": "display_data",
          "data": {
            "image/png": "[encoded data removed]",
            "text/plain": [
              "<Figure size 1008x432 with 1 Axes>"
            ]
          },
          "metadata": {
            "tags": []
          }
        }
      ]
    },
    {
      "cell_type": "code",
      "metadata": {
        "id": "q3jT6ZR-q1Y4",
        "colab_type": "code",
        "colab": {}
      },
      "source": [
        "(dfc['loan_amnt'] == dfc[FEATURE]).sum() == len(dfc)\n",
        "comments[FEATURE] = 'It is a duplicate. Eliminate it.'"
      ],
      "execution_count": 0,
      "outputs": []
    },
    {
      "cell_type": "markdown",
      "metadata": {
        "id": "QpHnS4FTlink",
        "colab_type": "text"
      },
      "source": [
        "### 4: `funded_amnt_inv`"
      ]
    },
    {
      "cell_type": "code",
      "metadata": {
        "id": "jdomV0NSq1Y8",
        "colab_type": "code",
        "outputId": "0dfb17fb-194a-4da1-a901-c81ee0734992",
        "colab": {
          "base_uri": "https://localhost:8080/",
          "height": 579
        }
      },
      "source": [
        "FEATURE = 'funded_amnt_inv'\n",
        "print(loan_stats[loan_stats['LoanStatNew'] == FEATURE].Description.to_string())\n",
        "print(dfc[FEATURE].describe())\n",
        "\n",
        "dfc[FEATURE].hist(bins=15, color='orange')\n",
        "dfc[FEATURE].hist(bins=125, color='r')\n",
        "plt.xlabel(FEATURE)\n",
        "plt.ylabel('Frequency of occurrence')\n",
        "plt.title(loan_stats[loan_stats['LoanStatNew'] == FEATURE].Description.to_string())\n",
        "plt.show()\n",
        "\n",
        "dfc[FEATURE] = dfc[FEATURE].astype(np.int32)\n",
        "comments[FEATURE] = 'Model as uint32.'"
      ],
      "execution_count": 26,
      "outputs": [
        {
          "output_type": "stream",
          "text": [
            "24    The total amount committed by investors for th...\n",
            "count    2.260668e+06\n",
            "mean     1.502344e+04\n",
            "std      9.192332e+03\n",
            "min      0.000000e+00\n",
            "25%      8.000000e+03\n",
            "50%      1.280000e+04\n",
            "75%      2.000000e+04\n",
            "max      4.000000e+04\n",
            "Name: funded_amnt_inv, dtype: float64\n"
          ],
          "name": "stdout"
        },
        {
          "output_type": "display_data",
          "data": {
            "image/png": "[encoded data removed]",
            "text/plain": [
              "<Figure size 1008x432 with 1 Axes>"
            ]
          },
          "metadata": {
            "tags": []
          }
        }
      ]
    },
    {
      "cell_type": "markdown",
      "metadata": {
        "id": "TpXR-vUOnKUe",
        "colab_type": "text"
      },
      "source": [
        "### 5: `term`"
      ]
    },
    {
      "cell_type": "code",
      "metadata": {
        "id": "0Hg9yHnhnDyG",
        "colab_type": "code",
        "outputId": "575f4ea4-05fa-4aab-da7c-91b47e40f5e7",
        "colab": {
          "base_uri": "https://localhost:8080/",
          "height": 139
        }
      },
      "source": [
        "FEATURE = 'term'\n",
        "print(dfc[FEATURE].unique())\n",
        "print(loan_stats[loan_stats['LoanStatNew'] == FEATURE].Description.to_string())\n",
        "print(dfc[FEATURE].describe())\n",
        "\n",
        "comments[FEATURE] = 'To be implemented as a choice field.'"
      ],
      "execution_count": 27,
      "outputs": [
        {
          "output_type": "stream",
          "text": [
            "[' 36 months' ' 60 months']\n",
            "94    The number of payments on the loan. Values are...\n",
            "count        2260668\n",
            "unique             2\n",
            "top        36 months\n",
            "freq         1609754\n",
            "Name: term, dtype: object\n"
          ],
          "name": "stdout"
        }
      ]
    },
    {
      "cell_type": "markdown",
      "metadata": {
        "id": "DOg3SOpwnwUN",
        "colab_type": "text"
      },
      "source": [
        "### 6: `int_rate`"
      ]
    },
    {
      "cell_type": "code",
      "metadata": {
        "id": "MMWwK5pQlz1e",
        "colab_type": "code",
        "outputId": "07e5477a-164b-49ae-bd45-5e65e6ee0d79",
        "colab": {
          "base_uri": "https://localhost:8080/",
          "height": 578
        }
      },
      "source": [
        "FEATURE = 'int_rate'\n",
        "print(loan_stats[loan_stats['LoanStatNew'] == FEATURE].Description.to_string())\n",
        "print(dfc[FEATURE].describe())\n",
        "\n",
        "plt.plot(dfc[FEATURE].sort_values(ascending=False).unique(), 'go')\n",
        "plt.xlabel('Arbitrary index [a.u.]')\n",
        "plt.ylabel('Unique values [n/a]')\n",
        "plt.title(loan_stats[loan_stats['LoanStatNew'] == FEATURE].Description.to_string())\n",
        "plt.grid()\n",
        "plt.show()\n",
        "\n",
        "dfc[FEATURE] = dfc[FEATURE].astype(np.float16)\n",
        "\n",
        "comments[FEATURE] = 'Model as float16.'"
      ],
      "execution_count": 28,
      "outputs": [
        {
          "output_type": "stream",
          "text": [
            "34    Interest Rate on the loan\n",
            "count    2.260668e+06\n",
            "mean     1.309291e+01\n",
            "std      4.832114e+00\n",
            "min      5.310000e+00\n",
            "25%      9.490000e+00\n",
            "50%      1.262000e+01\n",
            "75%      1.599000e+01\n",
            "max      3.099000e+01\n",
            "Name: int_rate, dtype: float64\n"
          ],
          "name": "stdout"
        },
        {
          "output_type": "display_data",
          "data": {
            "image/png": "[encoded data removed]",
            "text/plain": [
              "<Figure size 1008x432 with 1 Axes>"
            ]
          },
          "metadata": {
            "tags": []
          }
        }
      ]
    },
    {
      "cell_type": "markdown",
      "metadata": {
        "id": "-T392UdQo9N7",
        "colab_type": "text"
      },
      "source": [
        "### 7: `installment`"
      ]
    },
    {
      "cell_type": "code",
      "metadata": {
        "id": "KXxq6hY1mSXW",
        "colab_type": "code",
        "outputId": "ac6cba73-1a00-4e26-c3c1-8e960c05ba47",
        "colab": {
          "base_uri": "https://localhost:8080/",
          "height": 578
        }
      },
      "source": [
        "FEATURE = 'installment'\n",
        "print(loan_stats[loan_stats['LoanStatNew'] == FEATURE].Description.to_string())\n",
        "print(dfc[FEATURE].describe())\n",
        "\n",
        "plt.plot(dfc[FEATURE].sort_values(ascending=False).unique(), 'go')\n",
        "plt.xlabel('Arbitrary index [a.u.]')\n",
        "plt.ylabel('Unique values [n/a]')\n",
        "plt.title(loan_stats[loan_stats['LoanStatNew'] == FEATURE].Description.to_string())\n",
        "plt.grid()\n",
        "plt.show()\n",
        "\n",
        "dfc[FEATURE] = dfc[FEATURE].astype(np.float32)\n",
        "\n",
        "comments[FEATURE] = 'Model as float32.'"
      ],
      "execution_count": 29,
      "outputs": [
        {
          "output_type": "stream",
          "text": [
            "33    The monthly payment owed by the borrower if th...\n",
            "count    2.260668e+06\n",
            "mean     4.458076e+02\n",
            "std      2.671737e+02\n",
            "min      4.930000e+00\n",
            "25%      2.516500e+02\n",
            "50%      3.779900e+02\n",
            "75%      5.933200e+02\n",
            "max      1.719830e+03\n",
            "Name: installment, dtype: float64\n"
          ],
          "name": "stdout"
        },
        {
          "output_type": "display_data",
          "data": {
            "image/png": "[encoded data removed]",
            "text/plain": [
              "<Figure size 1008x432 with 1 Axes>"
            ]
          },
          "metadata": {
            "tags": []
          }
        }
      ]
    },
    {
      "cell_type": "markdown",
      "metadata": {
        "id": "VnnFzDdtp_pn",
        "colab_type": "text"
      },
      "source": [
        "### 8: `grade`"
      ]
    },
    {
      "cell_type": "code",
      "metadata": {
        "id": "LNyGpXBvmiml",
        "colab_type": "code",
        "outputId": "4ec38477-6206-4565-b365-7d0f8336380f",
        "colab": {
          "base_uri": "https://localhost:8080/",
          "height": 388
        }
      },
      "source": [
        "FEATURE = 'grade'\n",
        "grade_df = pd.DataFrame(dfc[FEATURE].value_counts().sort_index())\n",
        "plt.bar(grade_df.index, grade_df[FEATURE], color='k')\n",
        "plt.xlabel(FEATURE)\n",
        "plt.ylabel('unique counts')\n",
        "\n",
        "plt.show()\n",
        "\n",
        "comments[FEATURE] = 'Model as categorical, non-null.'"
      ],
      "execution_count": 30,
      "outputs": [
        {
          "output_type": "display_data",
          "data": {
            "image/png": "[encoded data removed]",
            "text/plain": [
              "<Figure size 1008x432 with 1 Axes>"
            ]
          },
          "metadata": {
            "tags": []
          }
        }
      ]
    },
    {
      "cell_type": "markdown",
      "metadata": {
        "id": "0VwGS9iFuqqv",
        "colab_type": "text"
      },
      "source": [
        "### 9: `sub_grade`"
      ]
    },
    {
      "cell_type": "code",
      "metadata": {
        "id": "-uselQmVqRwE",
        "colab_type": "code",
        "outputId": "9fde5eea-a950-4f87-eb2c-6fd29613c117",
        "colab": {
          "base_uri": "https://localhost:8080/",
          "height": 389
        }
      },
      "source": [
        "FEATURE = 'sub_grade'\n",
        "sub_grade_df = pd.DataFrame(dfc[FEATURE].value_counts().sort_index())\n",
        "plt.bar(sub_grade_df.index, sub_grade_df[FEATURE], color='k')\n",
        "plt.xlabel(FEATURE)\n",
        "plt.ylabel('unique counts')\n",
        "\n",
        "plt.show()\n",
        "\n",
        "comments[FEATURE] = 'Model as categorical, non-null.'"
      ],
      "execution_count": 31,
      "outputs": [
        {
          "output_type": "display_data",
          "data": {
            "image/png": "[encoded data removed]",
            "text/plain": [
              "<Figure size 1008x432 with 1 Axes>"
            ]
          },
          "metadata": {
            "tags": []
          }
        }
      ]
    },
    {
      "cell_type": "code",
      "metadata": {
        "id": "7kTCRoZftQWa",
        "colab_type": "code",
        "colab": {}
      },
      "source": [
        "b = sub_grade_df.T\n",
        "new_cols = set(map(lambda x: x[0], b.columns))\n",
        "c = {}\n",
        "for i in new_cols:\n",
        "  c[i] = b[[j for j in b.columns if j.startswith(i)]].sum(axis=1).values[0]\n",
        "\n",
        "(pd.DataFrame(c.values(), index=c.keys(), columns=['grade']).sort_index() == grade_df).all()\n",
        "\n",
        "comments[FEATURE] = 'This feature duplicates `grade` with more granularity. We should use this one instead.'"
      ],
      "execution_count": 0,
      "outputs": []
    },
    {
      "cell_type": "markdown",
      "metadata": {
        "id": "9fvXk0BB0X7A",
        "colab_type": "text"
      },
      "source": [
        "## High-Level Analysis\n",
        "From now on, we will be looking selected data only, which we think will deliver value to the other team. In real case situations, it would be recommended not to remove any pieces of the data from machine-learning experts, unless the data is either corrupted or it exists in a duplicated form.\n",
        "\n",
        "Here, however, we will focus on the absolute essence only.\n",
        "For this reason, we will drop all the columns that contain missing values or seem to be duplicates with respect to other portions of the data.\n",
        "\n",
        "\n",
        "### Selected columns\n",
        "Given the descriptions available in the auxiliary file, we can distil the dataset to formulate the following entities:\n",
        "1. *Borrower* that represents of an individual that borrows money (probably a customer).\n",
        "2. *Loan* that is the amount that is borrowed / granted or rejected together with financial terms and conditions.\n",
        "\n",
        "The entities shall bear only key properties that are essential for to understand of the overall picture, without going into the low-level financial details.\n",
        "\n",
        "\n",
        "**`LOAN`**:\n",
        "* `id`\n",
        "* `title`\t\tThe loan title provided by the borrower\n",
        "* `funded_amnt`\tThe total amount committed to that loan at that point in time.\n",
        "* `total_pymnt`\tPayments received to date for total amount funded\n",
        "* `sub_grade`\tLC assigned loan grade\n",
        "* `int_rate`\tInterest Rate on the loan\n",
        "* `loan_amnt`\tThe listed amount of the loan applied for by the borrower. If at some point in time, the credit department reduces the loan amount, then it will be reflected in this value.\n",
        "* `loan_status`\tCurrent status of the loan\n",
        "* `term`\t\tThe number of payments on the loan. Values are in months and can be either 36 or 60.\n",
        "\n",
        "**`BORROWER`**:\n",
        "- `LOAN` (1-M)\n",
        "* `member_id`\tA unique LC assigned Id for the borrower member.\n",
        "* `all_util`\tBalance to credit limit on all trades\n",
        "* `annual_inc`\tThe self-reported annual income provided by the borrower during registration.\n",
        "* `avg_cur_bal`\tAverage current balance of all accounts\n",
        "* `dti`\t\tA ratio calculated using the borrower’s total monthly debt payments on the total debt obligations, excluding mortgage and the requested LC loan, divided by the borrower’s self-reported monthly income.\n",
        "* `home_ownership`\tThe home ownership status provided by the borrower during registration or obtained from the credit report. Our values are: RENT, OWN, MORTGAGE, OTHER\n",
        "* `addr_state`\tThe state provided by the borrower in the loan application\n",
        "* `zip_code`\tThe first 3 numbers of the zip code provided by the borrower in the loan application.\n",
        "* `emp_title`\tThe job title supplied by the Borrower when applying for the loan.\n",
        "* `emp_length`\tEmployment length in years. Possible values are between 0 and 10 where 0 means less than one year and 10 means ten or more years.\n"
      ]
    },
    {
      "cell_type": "code",
      "metadata": {
        "id": "Vw8puQZ5uW0N",
        "colab_type": "code",
        "colab": {}
      },
      "source": [
        "selected_properties = {\n",
        "    'id', 'title', 'funded_amnt', 'total_pymnt', 'sub_grade', 'int_rate', 'loan_amnt',\n",
        "    'loan_status', 'term', 'all_util', 'member_id', 'annual_inc', 'avg_cur_bal', 'dti',\n",
        "    'home_ownership', 'addr_state', 'zip_code', 'emp_title', 'emp_length', \n",
        "}"
      ],
      "execution_count": 0,
      "outputs": []
    },
    {
      "cell_type": "code",
      "metadata": {
        "id": "R-JXGYmOwPZt",
        "colab_type": "code",
        "colab": {}
      },
      "source": [
        "dfc = dfc[[c for c in selected_properties]]"
      ],
      "execution_count": 0,
      "outputs": []
    },
    {
      "cell_type": "markdown",
      "metadata": {
        "id": "BRjnU0EKmYjL",
        "colab_type": "text"
      },
      "source": [
        "## Analysis of the selected columns\n",
        "### `loan.id`"
      ]
    },
    {
      "cell_type": "code",
      "metadata": {
        "id": "xvH_NaW4a9zR",
        "colab_type": "code",
        "outputId": "92c1cb45-74ee-477a-8b83-5d2e8425b351",
        "colab": {
          "base_uri": "https://localhost:8080/",
          "height": 34
        }
      },
      "source": [
        "dfc['id'].isna().sum() / len(dfc)"
      ],
      "execution_count": 35,
      "outputs": [
        {
          "output_type": "execute_result",
          "data": {
            "text/plain": [
              "1.0"
            ]
          },
          "metadata": {
            "tags": []
          },
          "execution_count": 35
        }
      ]
    },
    {
      "cell_type": "markdown",
      "metadata": {
        "id": "ETU8upgDmoyK",
        "colab_type": "text"
      },
      "source": [
        "This columns represents the loan `id`, which has been purposely removed. We can treat is as a _primary key_ for the `loan` table."
      ]
    },
    {
      "cell_type": "markdown",
      "metadata": {
        "id": "mBALl-7ym3XI",
        "colab_type": "text"
      },
      "source": [
        "### `loan.title`"
      ]
    },
    {
      "cell_type": "code",
      "metadata": {
        "id": "RzsFa2ala-ww",
        "colab_type": "code",
        "outputId": "40aeea23-1b93-42c8-c8cb-406ee1b74514",
        "colab": {
          "base_uri": "https://localhost:8080/",
          "height": 52
        }
      },
      "source": [
        "print(\"Empty values: {:.2f} %\".format(dfc['title'].isna().sum() / len(dfc) * 100))\n",
        "print(\"# unique values: {:.0f}.\".format(dfc['title'].str.lower().unique().shape[0]))"
      ],
      "execution_count": 36,
      "outputs": [
        {
          "output_type": "stream",
          "text": [
            "Empty values: 1.03 %\n",
            "# unique values: 53305.\n"
          ],
          "name": "stdout"
        }
      ]
    },
    {
      "cell_type": "code",
      "metadata": {
        "id": "Eqj5oo3Xm__c",
        "colab_type": "code",
        "outputId": "fac2ea52-25ab-4595-aff6-b0e2ee700cd4",
        "colab": {
          "base_uri": "https://localhost:8080/",
          "height": 404
        }
      },
      "source": [
        "unique_titles = dfc['title'].str.lower().value_counts().sort_values(ascending=False)\n",
        "\n",
        "plt.barh(unique_titles.index[25:0:-1], unique_titles[25:0:-1]/len(dfc)*100)\n",
        "plt.xlabel(\"Frequency of occurrence [%].\")\n",
        "plt.title('loan.title (top 25)')\n",
        "plt.grid()\n",
        "plt.show()"
      ],
      "execution_count": 37,
      "outputs": [
        {
          "output_type": "display_data",
          "data": {
            "image/png": "[encoded data removed]",
            "text/plain": [
              "<Figure size 1008x432 with 1 Axes>"
            ]
          },
          "metadata": {
            "tags": []
          }
        }
      ]
    },
    {
      "cell_type": "markdown",
      "metadata": {
        "id": "6Z7j8132tFRO",
        "colab_type": "text"
      },
      "source": [
        "This figure presents the top 25 `title`s, which are the \"reasons\" for loan as stated by the borrowers. The top reason as stated is the _credit card refinacing_, which suggests that a person seeking the loan is already in debt. The second one, as stated, is for improvement of the house, while the third one (_other_) suggests that the borrower did not want to make any excuses for seeking out loan.\n",
        "\n",
        "Technical remark: there are some duplicates here in values. For example `credit card refinancing`, `credit card consolidation`, `credit card refinance` and `credit card payoff` bear our practically the same meaning. From algorithm development point of view, we should build the system that limits the user to more precise, narrow scope.\n",
        "\n",
        "Here, apart from converting the text into lower case only, we will treat this field as _optional_ description over the case."
      ]
    },
    {
      "cell_type": "markdown",
      "metadata": {
        "id": "1v83k0xJunGw",
        "colab_type": "text"
      },
      "source": [
        "### `loan.funded_amnt`"
      ]
    },
    {
      "cell_type": "code",
      "metadata": {
        "id": "1ga3fKm8unRv",
        "colab_type": "code",
        "outputId": "c772457a-bc86-4706-eae3-7f91c0608126",
        "colab": {
          "base_uri": "https://localhost:8080/",
          "height": 456
        }
      },
      "source": [
        "assert dfc['funded_amnt'].isna().sum() == 0\n",
        "\n",
        "plt.hist(dfc['funded_amnt'], bins=20, color='green', rwidth=0.80)\n",
        "plt.hist(dfc['funded_amnt'], bins=100, color='lightgreen', rwidth=0.80)\n",
        "plt.vlines(dfc['funded_amnt'].mean(), 0, 3e5, 'r', lw=4)\n",
        "plt.vlines(dfc['funded_amnt'].median(), 0, 3e5, 'k', lw=4)\n",
        "plt.xlabel(\"Amount of loan funded.\")\n",
        "plt.ylabel(\"Frequency of occurrence in the population / dataset.\")\n",
        "plt.title(\"loan.funded_amnt\")\n",
        "\n",
        "from scipy.special import erfc\n",
        "from scipy.optimize import curve_fit\n",
        "\n",
        "def skewed_gaussian(x, A, mu, sigma, lam):\n",
        "  a = lam/2\n",
        "  b = np.exp(lam / 2 * (2*mu + lam*sigma**2 - 2*x))\n",
        "  c = erfc((mu + lam*sigma**2 - x)/(np.sqrt(2)*sigma))\n",
        "  return A * a * b * c\n",
        "\n",
        "p0 = [100000, 13000, 1000, 0.0001]\n",
        "linx = np.linspace(0, 40000, num=100)\n",
        "vals = np.histogram(dfc['funded_amnt'], bins=100)[0]\n",
        "coeff, _ = curve_fit(skewed_gaussian, linx, vals, p0=p0)\n",
        "skaus = skewed_gaussian(linx, *coeff)\n",
        "\n",
        "plt.plot(linx, skaus, 'orange', lw=4)\n",
        "\n",
        "plt.grid()\n",
        "plt.show()"
      ],
      "execution_count": 38,
      "outputs": [
        {
          "output_type": "stream",
          "text": [
            "/usr/local/lib/python3.6/dist-packages/ipykernel_launcher.py:16: RuntimeWarning: overflow encountered in exp\n",
            "  app.launch_new_instance()\n",
            "/usr/local/lib/python3.6/dist-packages/ipykernel_launcher.py:18: RuntimeWarning: invalid value encountered in multiply\n"
          ],
          "name": "stderr"
        },
        {
          "output_type": "display_data",
          "data": {
            "image/png": "[encoded data removed]",
            "text/plain": [
              "<Figure size 1008x432 with 1 Axes>"
            ]
          },
          "metadata": {
            "tags": []
          }
        }
      ]
    },
    {
      "cell_type": "markdown",
      "metadata": {
        "id": "slFUctN7uncx",
        "colab_type": "text"
      },
      "source": [
        "Judging by the look of the histogram, we infer that the `funded_amnt` follows the so-called exponentially modified Gaussian distribution (a normal distibution that is assymetric), with mean (red) of around 15000 and median (black) of around 13000. The reason for this large differnece between the mean and median is the fact that there exists a small group of people that were granted an extremely large loans (above 35000) which skew the distribution.\n",
        "\n",
        "Technical remark: model this column as non-optional, floating point number (float32).\n",
        "\n",
        "...yes, it seems that the exponentially modified function is a reasonable fit:\n",
        "\n",
        "$$\n",
        "y(x; A,\\mu,\\sigma,\\lambda) = \\frac{A\\lambda}{2}\\exp\\left(\\frac{\\lambda}{2}(2\\mu + \\lambda\\sigma^2-2x)\\right)\\text{erfc}\\left(\\frac{\\mu + \\lambda\\sigma^2 - x}{\\sqrt{2}\\sigma}\\right).\n",
        "$$"
      ]
    },
    {
      "cell_type": "markdown",
      "metadata": {
        "id": "6hGj5L_AyGiT",
        "colab_type": "text"
      },
      "source": [
        "### `loan.total_pyment`"
      ]
    },
    {
      "cell_type": "code",
      "metadata": {
        "id": "CreJW2MhyGtm",
        "colab_type": "code",
        "outputId": "61d340f9-2b35-4ee6-d469-4b467c0ac318",
        "colab": {
          "base_uri": "https://localhost:8080/",
          "height": 439
        }
      },
      "source": [
        "assert dfc['total_pymnt'].isna().sum() == 0\n",
        "\n",
        "plt.hist(dfc['total_pymnt'], bins=100, rwidth=0.80)\n",
        "plt.xlabel(\"Amount of money paid back (in total).\")\n",
        "plt.ylabel(\"Frequency of occurrence in the dataset.\")\n",
        "plt.title(\"loan.total_pyment\")\n",
        "\n",
        "p0 = [100000, 3000, 1000, 0.0001]\n",
        "linx = np.linspace(0, 60000, num=100)\n",
        "vals = np.histogram(dfc['total_pymnt'], bins=100)[0]\n",
        "coeff, _ = curve_fit(skewed_gaussian, linx, vals, p0=p0)\n",
        "skaus = skewed_gaussian(linx, *coeff)\n",
        "\n",
        "plt.plot(linx, skaus, 'orange', lw=4)\n",
        "\n",
        "plt.grid()\n",
        "plt.show()"
      ],
      "execution_count": 39,
      "outputs": [
        {
          "output_type": "stream",
          "text": [
            "/usr/local/lib/python3.6/dist-packages/ipykernel_launcher.py:18: RuntimeWarning: overflow encountered in multiply\n",
            "/usr/local/lib/python3.6/dist-packages/ipykernel_launcher.py:18: RuntimeWarning: invalid value encountered in multiply\n"
          ],
          "name": "stderr"
        },
        {
          "output_type": "display_data",
          "data": {
            "image/png": "[encoded data removed]",
            "text/plain": [
              "<Figure size 1008x432 with 1 Axes>"
            ]
          },
          "metadata": {
            "tags": []
          }
        }
      ]
    },
    {
      "cell_type": "markdown",
      "metadata": {
        "id": "oulrklMeyG5w",
        "colab_type": "text"
      },
      "source": [
        "Again, the exponentially-modified function seems to be a good fit for this distribution...\n",
        "\n",
        "Here, there are two distinct obeservations that can be made:\n",
        "1. The the frequency of the pay-back is almost alwyas _inversely proportional_ to the amount paid, meaning that the larger the amount, it is proportionally less likely that it will be paid.\n",
        "2. Secondly, there is a some preference among the borrowers to pay back the amount that is slighly _larger_ than any round number. Perhaps this can be understood with a fact that when a loan is paid back it incurres interest as well. However, we can clearly see points where the histogram diviates from the fitted line, which happens exactly when the argument is a round number.\n",
        "\n",
        "Technical remark: model it as a non-zero, non-optional floating point number."
      ]
    },
    {
      "cell_type": "markdown",
      "metadata": {
        "id": "E6qR14B57AVk",
        "colab_type": "text"
      },
      "source": [
        "### `loan.sub_grade` -> `grade`"
      ]
    },
    {
      "cell_type": "code",
      "metadata": {
        "id": "lW5yfSK97Af_",
        "colab_type": "code",
        "outputId": "28dff57f-8748-42fe-c468-e8d68e3130ee",
        "colab": {
          "base_uri": "https://localhost:8080/",
          "height": 405
        }
      },
      "source": [
        "assert dfc['sub_grade'].isna().sum() == 0\n",
        "\n",
        "sub_grade_df = pd.DataFrame(dfc['sub_grade'].value_counts().sort_index())\n",
        "plt.bar(sub_grade_df.index, sub_grade_df['sub_grade'], color='k')\n",
        "plt.xlabel('sub_grade')\n",
        "plt.ylabel('unique counts')\n",
        "plt.title('loan.sub_grade')\n",
        "\n",
        "plt.show()"
      ],
      "execution_count": 40,
      "outputs": [
        {
          "output_type": "display_data",
          "data": {
            "image/png": "[encoded data removed]",
            "text/plain": [
              "<Figure size 1008x432 with 1 Axes>"
            ]
          },
          "metadata": {
            "tags": []
          }
        }
      ]
    },
    {
      "cell_type": "markdown",
      "metadata": {
        "id": "lMo9vI-47Asr",
        "colab_type": "text"
      },
      "source": [
        "Again, since the elements of `sub_grade` total to `grade`, we can replace the `grade` column with `sub_grade` and the information will remain complete. At the same time, it makes no sense to retain the name `sub_grade` as such, so we will rename it to `grade` when populating of the database."
      ]
    },
    {
      "cell_type": "markdown",
      "metadata": {
        "id": "V68YUiPi70_W",
        "colab_type": "text"
      },
      "source": [
        "### `loan.int_rate`"
      ]
    },
    {
      "cell_type": "code",
      "metadata": {
        "id": "Br47HzF271Ki",
        "colab_type": "code",
        "outputId": "aecd2790-2b64-4ea4-80ec-40c0583f7239",
        "colab": {
          "base_uri": "https://localhost:8080/",
          "height": 439
        }
      },
      "source": [
        "assert dfc['int_rate'].isna().sum() == 0\n",
        "\n",
        "plt.hist(dfc['int_rate'], bins=40, color='#CD0312', rwidth=0.80)\n",
        "plt.vlines(dfc['int_rate'].mean(), 0, 1.5e4, 'g', lw=4)\n",
        "plt.vlines(dfc['int_rate'].median(), 0, 2e5, 'k', lw=4)\n",
        "plt.xlabel('Interest rate [%]')\n",
        "plt.ylabel('Frequency of occurrence.')\n",
        "plt.title('loan.int_rate')\n",
        "plt.grid()\n",
        "plt.show()\n",
        "\n",
        "print (dfc['int_rate'].mean())\n",
        "print (dfc['int_rate'].median())"
      ],
      "execution_count": 41,
      "outputs": [
        {
          "output_type": "display_data",
          "data": {
            "image/png": "[encoded data removed]",
            "text/plain": [
              "<Figure size 1008x432 with 1 Axes>"
            ]
          },
          "metadata": {
            "tags": []
          }
        },
        {
          "output_type": "stream",
          "text": [
            "nan\n",
            "12.62\n"
          ],
          "name": "stdout"
        }
      ]
    },
    {
      "cell_type": "markdown",
      "metadata": {
        "id": "kvg4Vkkn71Wb",
        "colab_type": "text"
      },
      "source": [
        "The interest rates span across interval of 5 to 30+ per cent, with median equal to 12.62% (and mean being undefined).\n",
        "There is a significant tail in the distribution where some customers have been offered (and apparently accepted) interest rates of 20 per cent and above... poor men."
      ]
    },
    {
      "cell_type": "markdown",
      "metadata": {
        "id": "_Tkoifs6-_7s",
        "colab_type": "text"
      },
      "source": [
        "### `loan.loan_amnt`"
      ]
    },
    {
      "cell_type": "code",
      "metadata": {
        "id": "f0G5Kn_w_AO7",
        "colab_type": "code",
        "outputId": "56ba7ee7-0ef9-45a2-d791-a142e8a768d3",
        "colab": {
          "base_uri": "https://localhost:8080/",
          "height": 374
        }
      },
      "source": [
        "assert dfc['loan_amnt'].isna().sum() == 0\n",
        "\n",
        "if (dfc['loan_amnt'] == dfc['funded_amnt']).all():\n",
        "  print ('Loan amount and funded amount are the same things!')\n",
        "else:\n",
        "  plt.hist(dfc['loan_amnt'], bins=25, color='orange', alpha=0.5, rwidth=0.80)\n",
        "  plt.hist(dfc['funded_amnt'], bins=25, color='red', alpha=0.5, rwidth=0.80)\n",
        "  plt.show()\n"
      ],
      "execution_count": 42,
      "outputs": [
        {
          "output_type": "display_data",
          "data": {
            "image/png": "[encoded data removed]",
            "text/plain": [
              "<Figure size 1008x432 with 1 Axes>"
            ]
          },
          "metadata": {
            "tags": []
          }
        }
      ]
    },
    {
      "cell_type": "code",
      "metadata": {
        "id": "1LRbGtBa_-rJ",
        "colab_type": "code",
        "outputId": "0fc94add-c13d-41e0-ac88-f9def0adba48",
        "colab": {
          "base_uri": "https://localhost:8080/",
          "height": 421
        }
      },
      "source": [
        "plt.plot(dfc['loan_amnt'] - dfc['funded_amnt'])\n",
        "plt.xlabel('Index')\n",
        "plt.ylabel('Amount')\n",
        "plt.title('Differnece between loan amount and funded amount.')\n",
        "plt.show()\n",
        "\n",
        "print (\"Discrepancies: {:.2f}%\".format(((dfc['loan_amnt'] - dfc['funded_amnt']) != 0.0).sum() / len(dfc) * 100))"
      ],
      "execution_count": 43,
      "outputs": [
        {
          "output_type": "display_data",
          "data": {
            "image/png": "[encoded data removed]",
            "text/plain": [
              "<Figure size 1008x432 with 1 Axes>"
            ]
          },
          "metadata": {
            "tags": []
          }
        },
        {
          "output_type": "stream",
          "text": [
            "Discrepancies: 0.09%\n"
          ],
          "name": "stdout"
        }
      ]
    },
    {
      "cell_type": "markdown",
      "metadata": {
        "id": "G4Bd87vS_AZA",
        "colab_type": "text"
      },
      "source": [
        "Distribution-wise the `loan_amnt` is equal to `funded_amnt`. However, by element-wise subtraction, we can see that the there exist discrepencies that are present in the 0.09% of the whole population (counted as a sum of non-zero difference positions)."
      ]
    },
    {
      "cell_type": "markdown",
      "metadata": {
        "id": "h04VZe-XBuGm",
        "colab_type": "text"
      },
      "source": [
        "### `loan.loan_status`"
      ]
    },
    {
      "cell_type": "code",
      "metadata": {
        "id": "vfR8rmbSBumW",
        "colab_type": "code",
        "outputId": "a6b811c5-83da-4be6-cc0c-76f833e2c4c6",
        "colab": {
          "base_uri": "https://localhost:8080/",
          "height": 815
        }
      },
      "source": [
        "assert dfc['loan_status'].isna().sum() == 0\n",
        "\n",
        "ind = list(map(lambda x: str(x[0] + 1) + ' -- ' + str(x[1]), enumerate(dfc['loan_status'].unique())))\n",
        "sdf = pd.DataFrame(dfc['loan_status'].value_counts().sort_values(ascending=False))\n",
        "plt.bar(ind, sdf['loan_status'])\n",
        "plt.title('loan.loan_status')\n",
        "plt.xticks(rotation=67)\n",
        "plt.ylabel(\"Categorical vairable count.\")\n",
        "\n",
        "plt.show()\n",
        "del sdf\n",
        "\n",
        "print(dfc['loan_status'].value_counts())"
      ],
      "execution_count": 44,
      "outputs": [
        {
          "output_type": "display_data",
          "data": {
            "image/png": "[encoded data removed]",
            "text/plain": [
              "<Figure size 1008x432 with 1 Axes>"
            ]
          },
          "metadata": {
            "tags": []
          }
        },
        {
          "output_type": "stream",
          "text": [
            "Fully Paid                                             1041952\n",
            "Current                                                 919695\n",
            "Charged Off                                             261655\n",
            "Late (31-120 days)                                       21897\n",
            "In Grace Period                                           8952\n",
            "Late (16-30 days)                                         3737\n",
            "Does not meet the credit policy. Status:Fully Paid        1988\n",
            "Does not meet the credit policy. Status:Charged Off        761\n",
            "Default                                                     31\n",
            "Name: loan_status, dtype: int64\n"
          ],
          "name": "stdout"
        }
      ]
    },
    {
      "cell_type": "markdown",
      "metadata": {
        "id": "iptXcGshBuxL",
        "colab_type": "text"
      },
      "source": [
        "Here, we have a categorical variable that describes of what happens with the loan. Here, there is a similarity between 3. and 5. value, as well as 6. and 7. are somewhat similar to 1. and 3.\n",
        "\n",
        "From this perspective, it would make sense to split this variable into two:\n",
        "1. `loan.loan_status` to `loan.loan_status` containing values 1.-6. + 9.\n",
        "2. `loan.meets_policy` being a binary field that would discriminate 7. and 8. (`True`) from the rest (`False`)."
      ]
    },
    {
      "cell_type": "markdown",
      "metadata": {
        "id": "rq9VAAbkBvM9",
        "colab_type": "text"
      },
      "source": [
        "### `loan.term`"
      ]
    },
    {
      "cell_type": "code",
      "metadata": {
        "id": "q0mdcLRdBvZ0",
        "colab_type": "code",
        "outputId": "14d7115f-d559-4b94-a465-5b24a7e9cb85",
        "colab": {
          "base_uri": "https://localhost:8080/",
          "height": 357
        }
      },
      "source": [
        "assert dfc['term'].isna().sum() == 0.0\n",
        "\n",
        "prop = zip(dfc['term'].value_counts().index, dfc['term'].value_counts() / len(dfc))\n",
        "labels = list(map(lambda x: str(x[0]) + ': ' + '{:.2f}%'.format(x[1] * 100), prop))\n",
        "plt.pie(dfc['term'].value_counts() / len(dfc), labels=labels)\n",
        "plt.show()"
      ],
      "execution_count": 45,
      "outputs": [
        {
          "output_type": "display_data",
          "data": {
            "image/png": "[encoded data removed]",
            "text/plain": [
              "<Figure size 1008x432 with 1 Axes>"
            ]
          },
          "metadata": {
            "tags": []
          }
        }
      ]
    },
    {
      "cell_type": "markdown",
      "metadata": {
        "id": "sbPBydQ0Bvhw",
        "colab_type": "text"
      },
      "source": [
        "Here, we see only two unique values: 36 or 60 months and the whole column lacks empty values. We can model it as is."
      ]
    },
    {
      "cell_type": "markdown",
      "metadata": {
        "id": "NOWK43SSDrf_",
        "colab_type": "text"
      },
      "source": [
        "### `borrower.all_util`\n",
        "Balance to credit limit on all trades."
      ]
    },
    {
      "cell_type": "code",
      "metadata": {
        "id": "ietI-jDrDrnW",
        "colab_type": "code",
        "outputId": "29dd8ddd-a882-4975-8988-656d871366b3",
        "colab": {
          "base_uri": "https://localhost:8080/",
          "height": 595
        }
      },
      "source": [
        "assert dfc[dfc['all_util'] < 0.0].shape[0] == 0\n",
        "\n",
        "plt.hist(dfc[~dfc['all_util'].isna()]['all_util'], bins=50, color='green', rwidth=0.80)\n",
        "plt.title('borrower.all_util')\n",
        "plt.xlabel('Balance to credict card on all trades.')\n",
        "plt.ylabel('Frequency of occrrence.')\n",
        "plt.grid()\n",
        "plt.show()\n",
        "\n",
        "print (dfc['all_util'].describe())\n",
        "print (\"Outliers (x > 150): {} out of {}.\".format(\n",
        "    dfc[dfc['all_util'] > 150.0].shape[0], len(dfc)))\n",
        "print (\"Missing values: {} out of {}.\".format(\n",
        "    dfc['all_util'].isna().sum(), len(dfc)))"
      ],
      "execution_count": 46,
      "outputs": [
        {
          "output_type": "display_data",
          "data": {
            "image/png": "[encoded data removed]",
            "text/plain": [
              "<Figure size 1008x432 with 1 Axes>"
            ]
          },
          "metadata": {
            "tags": []
          }
        },
        {
          "output_type": "stream",
          "text": [
            "count    1.394320e+06\n",
            "mean     5.703230e+01\n",
            "std      2.090475e+01\n",
            "min      0.000000e+00\n",
            "25%      4.300000e+01\n",
            "50%      5.800000e+01\n",
            "75%      7.200000e+01\n",
            "max      2.390000e+02\n",
            "Name: all_util, dtype: float64\n",
            "Outliers (x > 150): 89 out of 2260668.\n",
            "Missing values: 866348 out of 2260668.\n"
          ],
          "name": "stdout"
        }
      ]
    },
    {
      "cell_type": "markdown",
      "metadata": {
        "id": "MJZ1fLJ-Drtk",
        "colab_type": "text"
      },
      "source": [
        "These values formulate a nearly-Gaussian distribution, although around 38% of the entries are empty.\n",
        "\n",
        "Possible assertions on the data could mean ensuring that $x \\ge 0$, but it is hard to establish if the `NULL` values should be converted to e.g. 0 or not without a domain expert."
      ]
    },
    {
      "cell_type": "markdown",
      "metadata": {
        "id": "fwx1Gw_XNQ55",
        "colab_type": "text"
      },
      "source": [
        "### `borrower.annual_inc`\n",
        "The self-reported annual income provided by the borrower during registration."
      ]
    },
    {
      "cell_type": "code",
      "metadata": {
        "id": "aOFhtI-4NREh",
        "colab_type": "code",
        "outputId": "69d9600f-2bf3-462c-dd27-c05ff6711228",
        "colab": {
          "base_uri": "https://localhost:8080/",
          "height": 595
        }
      },
      "source": [
        "assert dfc[dfc['annual_inc'] < 0.0].shape[0] == 0\n",
        "\n",
        "plt.hist(dfc[dfc['annual_inc'] < 1e6]['annual_inc'], bins=100, color='green', rwidth=0.5)\n",
        "plt.title('borrower.annual_inc')\n",
        "plt.xlabel('Declared income.')\n",
        "plt.ylabel('Frequency of occrrence.')\n",
        "plt.grid()\n",
        "plt.show()\n",
        "\n",
        "print (dfc['annual_inc'].describe())\n",
        "print (\"Outliers (x > 1M): {} out of {}.\".format(\n",
        "    dfc[dfc['annual_inc'] >= 1e6].shape[0], len(dfc)))\n",
        "print (\"Missing values: {} out of {}.\".format(\n",
        "    dfc['annual_inc'].isna().sum(), len(dfc)))"
      ],
      "execution_count": 47,
      "outputs": [
        {
          "output_type": "display_data",
          "data": {
            "image/png": "[encoded data removed]",
            "text/plain": [
              "<Figure size 1008x432 with 1 Axes>"
            ]
          },
          "metadata": {
            "tags": []
          }
        },
        {
          "output_type": "stream",
          "text": [
            "count    2.260664e+06\n",
            "mean     7.799243e+04\n",
            "std      1.126962e+05\n",
            "min      0.000000e+00\n",
            "25%      4.600000e+04\n",
            "50%      6.500000e+04\n",
            "75%      9.300000e+04\n",
            "max      1.100000e+08\n",
            "Name: annual_inc, dtype: float64\n",
            "Outliers (x > 1M): 678 out of 2260668.\n",
            "Missing values: 4 out of 2260668.\n"
          ],
          "name": "stdout"
        }
      ]
    },
    {
      "cell_type": "markdown",
      "metadata": {
        "id": "xGjqMczbNROY",
        "colab_type": "text"
      },
      "source": [
        "This graph represent the declared annual income.\n",
        "It follows an exponentially modified Gaussian distribution,\n",
        "Interestingly, 678 people declared their income to be above 1M, which is a considerable income. Perhaps, we should limit these values to $x \\le 0 \\le 10^7$ and \"clip\" all the values to this interval. Otherwise it becomes unrealistic and the outliers have the potential to skew the algorithms."
      ]
    },
    {
      "cell_type": "markdown",
      "metadata": {
        "id": "ZSMjwS9Fw4T1",
        "colab_type": "text"
      },
      "source": [
        "### `borrower.avg_cur_bal`\n",
        "Average current balance of all accounts"
      ]
    },
    {
      "cell_type": "code",
      "metadata": {
        "id": "mXfT1OHiw4c6",
        "colab_type": "code",
        "outputId": "3c112281-5361-485e-cb16-b75a7ba13a27",
        "colab": {
          "base_uri": "https://localhost:8080/",
          "height": 595
        }
      },
      "source": [
        "assert dfc[dfc['avg_cur_bal'] < 0.0].shape[0] == 0\n",
        "\n",
        "plt.hist(dfc[dfc['avg_cur_bal'] < 1e5]['avg_cur_bal'], bins=100, color='green', rwidth=0.5)\n",
        "plt.title('borrower.avg_cur_bal')\n",
        "plt.xlabel('Average current balance on all accounts.')\n",
        "plt.ylabel('Frequency of occrrence.')\n",
        "plt.grid()\n",
        "plt.show()\n",
        "\n",
        "print (dfc['avg_cur_bal'].describe())\n",
        "print (\"Outliers (x > 1e5): {} out of {}.\".format(\n",
        "    dfc[dfc['avg_cur_bal'] >= 1e5].shape[0], len(dfc)))\n",
        "print (\"Missing values: {} out of {}.\".format(\n",
        "    dfc['avg_cur_bal'].isna().sum(), len(dfc)))"
      ],
      "execution_count": 48,
      "outputs": [
        {
          "output_type": "display_data",
          "data": {
            "image/png": "[encoded data removed]",
            "text/plain": [
              "<Figure size 1008x432 with 1 Axes>"
            ]
          },
          "metadata": {
            "tags": []
          }
        },
        {
          "output_type": "stream",
          "text": [
            "count    2.190322e+06\n",
            "mean     1.354780e+04\n",
            "std      1.647408e+04\n",
            "min      0.000000e+00\n",
            "25%      3.080000e+03\n",
            "50%      7.335000e+03\n",
            "75%      1.878300e+04\n",
            "max      9.580840e+05\n",
            "Name: avg_cur_bal, dtype: float64\n",
            "Outliers (x > 1e5): 7924 out of 2260668.\n",
            "Missing values: 70346 out of 2260668.\n"
          ],
          "name": "stdout"
        }
      ]
    },
    {
      "cell_type": "markdown",
      "metadata": {
        "id": "Rz-t8nmsw4ki",
        "colab_type": "text"
      },
      "source": [
        "There is a marginal count average account balance values that are above $10^5$. Apart from that we have a distibution that seems to be a sum of Gaussian distribution (for lower values), then an exponential decay and eventually a flat line."
      ]
    },
    {
      "cell_type": "markdown",
      "metadata": {
        "id": "bgRF7pSwyCbv",
        "colab_type": "text"
      },
      "source": [
        "### `borrower.dti`\n",
        "A ratio calculated using the borrower's total monthly debt payments on the dotal debt oblications, exluding mortgage and rhe requisted LC loan, divided by the borrower's self-reported montly income."
      ]
    },
    {
      "cell_type": "code",
      "metadata": {
        "id": "3SuATnKPyCjm",
        "colab_type": "code",
        "outputId": "5ce9f6ad-73e7-439e-ad29-600d582da09d",
        "colab": {
          "base_uri": "https://localhost:8080/",
          "height": 595
        }
      },
      "source": [
        "plt.hist(dfc[dfc['dti'] < 100]['dti'], bins=100, color='orange', rwidth=0.8)\n",
        "plt.xlabel('DTI')\n",
        "plt.ylabel('Frequency of occurrence.')\n",
        "plt.title('DTI')\n",
        "plt.grid()\n",
        "plt.show()\n",
        "\n",
        "print (dfc['dti'].describe())\n",
        "print (\"Outliers (x > 100): {} out of {}.\".format(\n",
        "    dfc[dfc['dti'] >= 100].shape[0], len(dfc)))\n",
        "print (\"Missing values: {} out of {}.\".format(\n",
        "    dfc['dti'].isna().sum(), len(dfc)))"
      ],
      "execution_count": 49,
      "outputs": [
        {
          "output_type": "display_data",
          "data": {
            "image/png": "[encoded data removed]",
            "text/plain": [
              "<Figure size 1008x432 with 1 Axes>"
            ]
          },
          "metadata": {
            "tags": []
          }
        },
        {
          "output_type": "stream",
          "text": [
            "count    2.258957e+06\n",
            "mean     1.882420e+01\n",
            "std      1.418333e+01\n",
            "min     -1.000000e+00\n",
            "25%      1.189000e+01\n",
            "50%      1.784000e+01\n",
            "75%      2.449000e+01\n",
            "max      9.990000e+02\n",
            "Name: dti, dtype: float64\n",
            "Outliers (x > 100): 2567 out of 2260668.\n",
            "Missing values: 1711 out of 2260668.\n"
          ],
          "name": "stdout"
        }
      ]
    },
    {
      "cell_type": "markdown",
      "metadata": {
        "id": "7fK8RdngyCq1",
        "colab_type": "text"
      },
      "source": [
        "This value can be derived from other values, according to the description. However, as the description itself is infomrative, it makes sense to keep it. \n",
        "The distribution looks like an inverted square function with a small tail, but mostly $ax^2 + bx + c, a < 0$."
      ]
    },
    {
      "cell_type": "markdown",
      "metadata": {
        "id": "MkO259iqzaya",
        "colab_type": "text"
      },
      "source": [
        "### `borrower.home_ownership`\n",
        "The home ownership provided by the borrower duting registration or obtained from the credit report. Our values are: RENT, OWN, MORTGAGE, OTHER."
      ]
    },
    {
      "cell_type": "code",
      "metadata": {
        "id": "WGVxq1f8za6W",
        "colab_type": "code",
        "outputId": "85c6803c-ec6a-4f74-ff11-0edf9792dd29",
        "colab": {
          "base_uri": "https://localhost:8080/",
          "height": 357
        }
      },
      "source": [
        "assert dfc['home_ownership'].isna().sum() == 0.0\n",
        "\n",
        "prop = zip(dfc['home_ownership'].value_counts().index, dfc['home_ownership'].value_counts() / len(dfc))\n",
        "labels = list(map(lambda x: str(x[0]) + ': ' + '{:.2f}%'.format(x[1] * 100), prop))\n",
        "plt.pie(dfc['home_ownership'].value_counts() / len(dfc), labels=labels)\n",
        "plt.show()"
      ],
      "execution_count": 50,
      "outputs": [
        {
          "output_type": "display_data",
          "data": {
            "image/png": "[encoded data removed]",
            "text/plain": [
              "<Figure size 1008x432 with 1 Axes>"
            ]
          },
          "metadata": {
            "tags": []
          }
        }
      ]
    },
    {
      "cell_type": "code",
      "metadata": {
        "id": "d9NucL0H0EvN",
        "colab_type": "code",
        "outputId": "aed8b451-f6c7-43df-8268-e5f8af8e848b",
        "colab": {
          "base_uri": "https://localhost:8080/",
          "height": 139
        }
      },
      "source": [
        "print(dfc['home_ownership'].value_counts())"
      ],
      "execution_count": 51,
      "outputs": [
        {
          "output_type": "stream",
          "text": [
            "MORTGAGE    1111450\n",
            "RENT         894929\n",
            "OWN          253057\n",
            "ANY             996\n",
            "OTHER           182\n",
            "NONE             54\n",
            "Name: home_ownership, dtype: int64\n"
          ],
          "name": "stdout"
        }
      ]
    },
    {
      "cell_type": "markdown",
      "metadata": {
        "id": "HEhmgBuBza-O",
        "colab_type": "text"
      },
      "source": [
        "Here, there are four unique keywords declared, but in practice there are six used. Since the difference between ANY, NONE and OTHER is small when it comes to overall proportion, we can clean this data and merge whatever value there is that is undeclared to OTHER, just to represent it as a default option."
      ]
    },
    {
      "cell_type": "markdown",
      "metadata": {
        "id": "q855sWjR009R",
        "colab_type": "text"
      },
      "source": [
        "### `borrower.state`\n",
        "The state provided by the borrower in the loan application."
      ]
    },
    {
      "cell_type": "code",
      "metadata": {
        "id": "aUtOD8lPvlDe",
        "colab_type": "code",
        "outputId": "30f15f92-639d-4ca4-c77a-3f0588580a3a",
        "colab": {
          "base_uri": "https://localhost:8080/",
          "height": 411
        }
      },
      "source": [
        "assert dfc['addr_state'].isna().sum() == 0\n",
        "\n",
        "plt.bar(dfc['addr_state'].unique(), dfc['addr_state'].value_counts(), color='darkgray')\n",
        "plt.xticks(rotation=90)\n",
        "plt.xlabel('State')\n",
        "plt.ylabel('#Borrowers')\n",
        "plt.title('borrower.state')\n",
        "plt.grid()\n",
        "plt.show()"
      ],
      "execution_count": 52,
      "outputs": [
        {
          "output_type": "display_data",
          "data": {
            "image/png": "[encoded data removed]",
            "text/plain": [
              "<Figure size 1008x432 with 1 Axes>"
            ]
          },
          "metadata": {
            "tags": []
          }
        }
      ]
    },
    {
      "cell_type": "code",
      "metadata": {
        "id": "CSxYZ5XJ5hRe",
        "colab_type": "code",
        "colab": {}
      },
      "source": [
        "import folium\n",
        "from folium.plugins import HeatMap\n",
        "\n",
        "def generateBaseMap(default_location=[40, -95], default_zoom_start=4):\n",
        "    base_map = folium.Map(location=default_location,\n",
        "                          width=800, \n",
        "                          height=600,\n",
        "                          zoom_control=False,\n",
        "                          no_touch=True,\n",
        "                          tiles='Stamen Toner', \n",
        "                          control_scale=False,\n",
        "                          zoom_start=default_zoom_start)\n",
        "    return base_map"
      ],
      "execution_count": 0,
      "outputs": []
    },
    {
      "cell_type": "code",
      "metadata": {
        "id": "RvlKKLSN8Jok",
        "colab_type": "code",
        "outputId": "79b1bc40-e23d-4d7b-d2d3-48df51248551",
        "colab": {
          "base_uri": "https://localhost:8080/",
          "height": 237
        }
      },
      "source": [
        "zcdf = pd.read_csv('./zipcodes.csv')\n",
        "\n",
        "zipcodes = dfc[~dfc['zip_code'].isna()]['zip_code']\n",
        "\n",
        "zcdf['zip3'] = zcdf['ZIP'].apply(lambda x: str(x))\n",
        "zcdf['zip3'] = zcdf['zip3'].apply(lambda x: x[:3])\n",
        "zcdf = zcdf.groupby('zip3').mean()\n",
        "\n",
        "zipcodes = zipcodes.apply(lambda x: x[:3])\n",
        "\n",
        "coords = pd.merge(zipcodes, zcdf, left_on='zip_code', right_on='zip3', how='inner')\n",
        "coords = coords.groupby('zip_code').agg({'zip_code': ['count'], 'LAT': ['mean'], 'LNG': ['mean']})\n",
        "coords.columns = ['count', 'latitude', 'longitude']\n",
        "coords.head()"
      ],
      "execution_count": 54,
      "outputs": [
        {
          "output_type": "execute_result",
          "data": {
            "text/html": [
              "<div>\n",
              "<style scoped>\n",
              "    .dataframe tbody tr th:only-of-type {\n",
              "        vertical-align: middle;\n",
              "    }\n",
              "\n",
              "    .dataframe tbody tr th {\n",
              "        vertical-align: top;\n",
              "    }\n",
              "\n",
              "    .dataframe thead th {\n",
              "        text-align: right;\n",
              "    }\n",
              "</style>\n",
              "<table border=\"1\" class=\"dataframe\">\n",
              "  <thead>\n",
              "    <tr style=\"text-align: right;\">\n",
              "      <th></th>\n",
              "      <th>count</th>\n",
              "      <th>latitude</th>\n",
              "      <th>longitude</th>\n",
              "    </tr>\n",
              "    <tr>\n",
              "      <th>zip_code</th>\n",
              "      <th></th>\n",
              "      <th></th>\n",
              "      <th></th>\n",
              "    </tr>\n",
              "  </thead>\n",
              "  <tbody>\n",
              "    <tr>\n",
              "      <th>100</th>\n",
              "      <td>17103</td>\n",
              "      <td>40.984115</td>\n",
              "      <td>-73.760131</td>\n",
              "    </tr>\n",
              "    <tr>\n",
              "      <th>101</th>\n",
              "      <td>800</td>\n",
              "      <td>40.987406</td>\n",
              "      <td>-73.772467</td>\n",
              "    </tr>\n",
              "    <tr>\n",
              "      <th>102</th>\n",
              "      <td>221</td>\n",
              "      <td>41.540736</td>\n",
              "      <td>-73.306578</td>\n",
              "    </tr>\n",
              "    <tr>\n",
              "      <th>103</th>\n",
              "      <td>5377</td>\n",
              "      <td>41.322870</td>\n",
              "      <td>-73.460247</td>\n",
              "    </tr>\n",
              "    <tr>\n",
              "      <th>104</th>\n",
              "      <td>16374</td>\n",
              "      <td>40.901209</td>\n",
              "      <td>-73.830671</td>\n",
              "    </tr>\n",
              "  </tbody>\n",
              "</table>\n",
              "</div>"
            ],
            "text/plain": [
              "          count   latitude  longitude\n",
              "zip_code                             \n",
              "100       17103  40.984115 -73.760131\n",
              "101         800  40.987406 -73.772467\n",
              "102         221  41.540736 -73.306578\n",
              "103        5377  41.322870 -73.460247\n",
              "104       16374  40.901209 -73.830671"
            ]
          },
          "metadata": {
            "tags": []
          },
          "execution_count": 54
        }
      ]
    },
    {
      "cell_type": "code",
      "metadata": {
        "id": "sDc3IOjs01Ly",
        "colab_type": "code",
        "outputId": "5456e6f0-4658-4847-ccba-7c4ecf705e3d",
        "colab": {
          "base_uri": "https://localhost:8080/",
          "height": 1000
        }
      },
      "source": [
        "base_map = generateBaseMap()\n",
        "HeatMap(data=coords[['latitude', 'longitude', 'count']].groupby(['latitude', 'longitude']).sum().reset_index().values.tolist(),\n",
        "        radius=8, max_zoom=13).add_to(base_map)\n",
        "base_map"
      ],
      "execution_count": 55,
      "outputs": [
        {
          "output_type": "execute_result",
          "data": {
            "text/html": [
              "<div style=\"width:100%;\"><div style=\"position:relative;width:100%;height:0;padding-bottom:60%;\"><iframe src=\"data:text/html;charset=utf-8;base64,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\" style=\"position:absolute;width:100%;height:100%;left:0;top:0;border:none !important;\" allowfullscreen webkitallowfullscreen mozallowfullscreen></iframe></div></div>"
            ],
            "text/plain": [
              "<folium.folium.Map at 0x7efbfb289390>"
            ]
          },
          "metadata": {
            "tags": []
          },
          "execution_count": 55
        }
      ]
    },
    {
      "cell_type": "markdown",
      "metadata": {
        "id": "-vWfM0uO01W5",
        "colab_type": "text"
      },
      "source": [
        "#### Brief explanation of the process.\n",
        "\n",
        "We use `folium` that is a library, which allows geospatial visualization and creates interactive maps.\n",
        "We then use a `Stamer Toner` form to make it black and white, in order to reduce the interference of the map's intrinsic features with our visualizaion.\n",
        "\n",
        "The next step is to translate the zip codes to coordinates, which is done using a lookup table (see: [this gist](https://gist.githubusercontent.com/erichurst/7882666/raw/5bdc46db47d9515269ab12ed6fb2850377fd869e/US%2520Zip%2520Codes%2520from%25202013%2520Government%2520Data)),\n",
        "and picking it up as a csv file with pandas. The earier approach with installing `pyzipcode` library through pip failed on Google Collaboratory.\n",
        "\n",
        "Becase our original data frame does not resolve the zip codes complitely, meaning, we only see the first three digits, we can only infer the localization approximately. For this reason, we strip the 4th and 5th character from the original zip codes (using `.apply(lambda x: x[:3])`) in both original and the cooridinates lookup table, respectively, so we can merge the two.\n",
        "\n",
        "Having the mapping available, we average the cooridinates across the approximate locations and create a heat map visualization over our base map. The nice property is that if we zoom in, we can see the localizations more exactly, to the extent possible. We can also see that the spatial distribution of our *borrowers* matches pretty well the population distribution of the US inhabitants. To take a step further, we could find a dataset of the latter case and subtract it from our borrowers' distibution to see where our customer base would be out of proportion. This exercise is however beyond the current task."
      ]
    },
    {
      "cell_type": "markdown",
      "metadata": {
        "id": "MnIRX9Z8Ocrl",
        "colab_type": "text"
      },
      "source": [
        "### `borrower.emp_title`\n",
        "The job title supplied by the Borrower when applying for the loan."
      ]
    },
    {
      "cell_type": "code",
      "metadata": {
        "id": "DaSmSOThOc5Z",
        "colab_type": "code",
        "outputId": "c3d0dd34-90ec-42fe-b13a-42048ebd6b58",
        "colab": {
          "base_uri": "https://localhost:8080/",
          "height": 69
        }
      },
      "source": [
        "print (\"Employment title not given: \", dfc['emp_title'].isna().sum()/len(dfc)*100, '%')\n",
        "print (\"Unique titles (before cleaning): \", dfc['emp_title'].unique().shape[0])\n",
        "import string\n",
        "emp_titles = dfc['emp_title']\n",
        "emp_titles = emp_titles.replace(np.nan, '')\n",
        "emp_titles = emp_titles.str.lower()\n",
        "emp_titles = emp_titles.apply(lambda x: x.rstrip())\n",
        "emp_titles = emp_titles.apply(lambda x: x.lstrip())\n",
        "emp_titles = emp_titles.apply(lambda x: ''.join(list(filter(lambda y: y in string.ascii_lowercase, x))))\n",
        "print (\"Unique titles (after cleaning): \", len(emp_titles.unique()))"
      ],
      "execution_count": 56,
      "outputs": [
        {
          "output_type": "stream",
          "text": [
            "Employment title not given:  7.385825782467837 %\n",
            "Unique titles (before cleaning):  512695\n",
            "Unique titles (after cleaning):  379899\n"
          ],
          "name": "stdout"
        }
      ]
    },
    {
      "cell_type": "code",
      "metadata": {
        "id": "I1q-q3pdQX6H",
        "colab_type": "code",
        "outputId": "1bff1fc9-20de-4e54-b516-bf0292ff2bf6",
        "colab": {
          "base_uri": "https://localhost:8080/",
          "height": 492
        }
      },
      "source": [
        "titles = emp_titles.value_counts()\n",
        "plt.bar(titles.index[:20], titles[:20], color='darkgray')\n",
        "plt.xticks(rotation=90)\n",
        "plt.xlabel('Employee title')\n",
        "plt.ylabel('#count')\n",
        "plt.title('Top 20, borrower.emp_title')\n",
        "plt.grid()\n",
        "plt.show()"
      ],
      "execution_count": 57,
      "outputs": [
        {
          "output_type": "display_data",
          "data": {
            "image/png": "[encoded data removed]",
            "text/plain": [
              "<Figure size 1008x432 with 1 Axes>"
            ]
          },
          "metadata": {
            "tags": []
          }
        }
      ]
    },
    {
      "cell_type": "code",
      "metadata": {
        "id": "CPZyEyg1TjJ3",
        "colab_type": "code",
        "outputId": "341b64ba-6f8e-4b0a-8adb-869e225295ba",
        "colab": {
          "base_uri": "https://localhost:8080/",
          "height": 225
        }
      },
      "source": [
        "print(titles)"
      ],
      "execution_count": 58,
      "outputs": [
        {
          "output_type": "stream",
          "text": [
            "                                    167121\n",
            "teacher                              48473\n",
            "manager                              45879\n",
            "owner                                33611\n",
            "registerednurse                      23459\n",
            "                                     ...  \n",
            "cedarwoodconsultingllc                   1\n",
            "fieldservicespecialistiii                1\n",
            "supervisorofengineeringdept              1\n",
            "lockboxspecialistiii                     1\n",
            "workforcedevelopmentcouncilofskc         1\n",
            "Name: emp_title, Length: 379899, dtype: int64\n"
          ],
          "name": "stdout"
        }
      ]
    },
    {
      "cell_type": "markdown",
      "metadata": {
        "id": "3yo-22JVOdEv",
        "colab_type": "text"
      },
      "source": [
        "This is an \"impossible\" column. In a sense, it is descriptive, but as we can see, people have provided a lot of inconsistent or stupid values (e.g. 'aa') or did not provide a value at all.\n",
        "On the other hand, we can still get some insight from it, if we plot the top most common values.\n",
        "In order to do that, we have to clean the data a little, in order to strip it from \"strange\" (e.g. non-ASCII) characters and trim spaces. The simple procedure above already reduces the unique count of these titles by roughly 25%. "
      ]
    },
    {
      "cell_type": "markdown",
      "metadata": {
        "id": "tE9pS3lNYcZA",
        "colab_type": "text"
      },
      "source": [
        "### `borrower.emp_length`\n",
        "Employment length in years. Possible values are between 0 and 10 where 0 means less than one year and 10 means ten or more years.\n"
      ]
    },
    {
      "cell_type": "code",
      "metadata": {
        "id": "CrsOqaRGYcoC",
        "colab_type": "code",
        "outputId": "5ed6aefa-d436-4433-db6f-23183d2567ab",
        "colab": {
          "base_uri": "https://localhost:8080/",
          "height": 390
        }
      },
      "source": [
        "import re\n",
        "emp_length = dfc['emp_length'].fillna('0').apply(lambda x: re.sub(\"\\D\", \"\", x)).astype(np.int8)\n",
        "\n",
        "plt.hist(emp_length, bins=11, color='k', rwidth=0.8)\n",
        "plt.xticks(range(11), labels=(['<1'] + [str(c) for c in range(1, 10)] + ['10+']))\n",
        "plt.ylabel('Count')\n",
        "plt.title('borrower.emp_lenght')\n",
        "plt.grid()\n",
        "plt.show()"
      ],
      "execution_count": 59,
      "outputs": [
        {
          "output_type": "display_data",
          "data": {
            "image/png": "[encoded data removed]",
            "text/plain": [
              "<Figure size 1008x432 with 1 Axes>"
            ]
          },
          "metadata": {
            "tags": []
          }
        }
      ]
    },
    {
      "cell_type": "markdown",
      "metadata": {
        "id": "ZcxkjcsfiPIO",
        "colab_type": "text"
      },
      "source": [
        "This data is fairly consistent and hence cleaning is also easy.\n",
        "We convert the values to integers, by extracting the digits from strings. At the same time, we honor the convention that any value that is 10 years or more is lumped into 10 years, while NaNs are replaced with 0, meaning that the default assumption is that if the employment length is not given, it falls back on 0."
      ]
    },
    {
      "cell_type": "markdown",
      "metadata": {
        "id": "U8Agcw_QYc1A",
        "colab_type": "text"
      },
      "source": [
        "## Next Steps\n",
        "Normally, we would continue with EDA trying to identify correlations between different columns as a base for algorithm development. However, here it is more important to _normalize_ the data and create a warehouse instead.\n",
        "\n",
        "For this reason, we would like to organize the data in a relational way, basically formulating two tables:\n",
        "1. _borrowers_, where every row will be a unique customer that borrows money from LC, and\n",
        "2. _loans_, where every row will be a unique loan.\n",
        "The relationship between loans and members will be many-to-one, meaning, one borrower may have several registered loans, but one loan may one and only one designated \"owner\".\n",
        "\n",
        "For this to work, we must first re-create `id` and `member_id`'s which have been removed from both .csv file and sqlite database.\n",
        "\n",
        "As we will characterize the borrowers by columns we mentioned earilier, we shall extract them from the main dataframe by imposing a uniqness condition over all of the fields existing together. At the same time, the loans will be enumerated simply using indices.\n",
        "We can then relate one to the other by creating a hash in the borrowers tables that will be used to temporarily enumerate the rows and merge them with the original dataframe in order for the _loans_ table to acquire a reference.\n",
        "\n",
        "\n",
        "\n"
      ]
    },
    {
      "cell_type": "code",
      "metadata": {
        "id": "62V4CVIpttGq",
        "colab_type": "code",
        "colab": {}
      },
      "source": [
        "dfc['id'] = dfc.index"
      ],
      "execution_count": 0,
      "outputs": []
    },
    {
      "cell_type": "code",
      "metadata": {
        "id": "-TVD62BfO0J7",
        "colab_type": "code",
        "outputId": "3948ad2e-7c17-4233-de04-df0eb7e3bf96",
        "colab": {
          "base_uri": "https://localhost:8080/",
          "height": 34
        }
      },
      "source": [
        "BORROWERS = ['all_util', 'annual_inc', 'avg_cur_bal', 'dti', 'home_ownership', 'addr_state', 'zip_code', 'emp_title', 'emp_length']\n",
        "borrowers = dfc[BORROWERS]\n",
        "borrowers = borrowers.drop_duplicates(subset=BORROWERS)\n",
        "borrowers['hash'] = borrowers.apply(lambda x: hash((*x,)), axis=1)\n",
        "borrowers['member_id'] = borrowers.index\n",
        "\n",
        "print(len(borrowers), len(dfc))"
      ],
      "execution_count": 61,
      "outputs": [
        {
          "output_type": "stream",
          "text": [
            "2260637 2260668\n"
          ],
          "name": "stdout"
        }
      ]
    },
    {
      "cell_type": "code",
      "metadata": {
        "id": "wPcI7L6Jvd_R",
        "colab_type": "code",
        "outputId": "a734eac9-aea5-4880-856b-c81a793d2aac",
        "colab": {
          "base_uri": "https://localhost:8080/",
          "height": 206
        }
      },
      "source": [
        "dfc['hash'] = dfc[BORROWERS].apply(lambda x: hash((*x,)), axis=1)\n",
        "dfc = pd.merge(dfc[[c for c in dfc.columns if c != 'member_id']], borrowers[['member_id', 'hash']], on='hash', how='left')\n",
        "dfc = dfc.drop(columns=['hash'])\n",
        "dfc.head()"
      ],
      "execution_count": 62,
      "outputs": [
        {
          "output_type": "execute_result",
          "data": {
            "text/html": [
              "<div>\n",
              "<style scoped>\n",
              "    .dataframe tbody tr th:only-of-type {\n",
              "        vertical-align: middle;\n",
              "    }\n",
              "\n",
              "    .dataframe tbody tr th {\n",
              "        vertical-align: top;\n",
              "    }\n",
              "\n",
              "    .dataframe thead th {\n",
              "        text-align: right;\n",
              "    }\n",
              "</style>\n",
              "<table border=\"1\" class=\"dataframe\">\n",
              "  <thead>\n",
              "    <tr style=\"text-align: right;\">\n",
              "      <th></th>\n",
              "      <th>loan_amnt</th>\n",
              "      <th>all_util</th>\n",
              "      <th>emp_title</th>\n",
              "      <th>funded_amnt</th>\n",
              "      <th>home_ownership</th>\n",
              "      <th>addr_state</th>\n",
              "      <th>title</th>\n",
              "      <th>annual_inc</th>\n",
              "      <th>avg_cur_bal</th>\n",
              "      <th>loan_status</th>\n",
              "      <th>sub_grade</th>\n",
              "      <th>int_rate</th>\n",
              "      <th>term</th>\n",
              "      <th>dti</th>\n",
              "      <th>zip_code</th>\n",
              "      <th>id</th>\n",
              "      <th>emp_length</th>\n",
              "      <th>total_pymnt</th>\n",
              "      <th>member_id</th>\n",
              "    </tr>\n",
              "  </thead>\n",
              "  <tbody>\n",
              "    <tr>\n",
              "      <th>0</th>\n",
              "      <td>2500</td>\n",
              "      <td>28.0</td>\n",
              "      <td>Chef</td>\n",
              "      <td>2500</td>\n",
              "      <td>RENT</td>\n",
              "      <td>NY</td>\n",
              "      <td>Debt consolidation</td>\n",
              "      <td>55000.0</td>\n",
              "      <td>1878.0</td>\n",
              "      <td>Current</td>\n",
              "      <td>C1</td>\n",
              "      <td>13.562500</td>\n",
              "      <td>36 months</td>\n",
              "      <td>18.24</td>\n",
              "      <td>109xx</td>\n",
              "      <td>0</td>\n",
              "      <td>10+ years</td>\n",
              "      <td>167.02</td>\n",
              "      <td>0</td>\n",
              "    </tr>\n",
              "    <tr>\n",
              "      <th>1</th>\n",
              "      <td>30000</td>\n",
              "      <td>57.0</td>\n",
              "      <td>Postmaster</td>\n",
              "      <td>30000</td>\n",
              "      <td>MORTGAGE</td>\n",
              "      <td>LA</td>\n",
              "      <td>Debt consolidation</td>\n",
              "      <td>90000.0</td>\n",
              "      <td>24763.0</td>\n",
              "      <td>Current</td>\n",
              "      <td>D2</td>\n",
              "      <td>18.937500</td>\n",
              "      <td>60 months</td>\n",
              "      <td>26.52</td>\n",
              "      <td>713xx</td>\n",
              "      <td>1</td>\n",
              "      <td>10+ years</td>\n",
              "      <td>1507.11</td>\n",
              "      <td>1</td>\n",
              "    </tr>\n",
              "    <tr>\n",
              "      <th>2</th>\n",
              "      <td>5000</td>\n",
              "      <td>35.0</td>\n",
              "      <td>Administrative</td>\n",
              "      <td>5000</td>\n",
              "      <td>MORTGAGE</td>\n",
              "      <td>MI</td>\n",
              "      <td>Debt consolidation</td>\n",
              "      <td>59280.0</td>\n",
              "      <td>18383.0</td>\n",
              "      <td>Current</td>\n",
              "      <td>D1</td>\n",
              "      <td>17.968750</td>\n",
              "      <td>36 months</td>\n",
              "      <td>10.51</td>\n",
              "      <td>490xx</td>\n",
              "      <td>2</td>\n",
              "      <td>6 years</td>\n",
              "      <td>353.89</td>\n",
              "      <td>2</td>\n",
              "    </tr>\n",
              "    <tr>\n",
              "      <th>3</th>\n",
              "      <td>4000</td>\n",
              "      <td>70.0</td>\n",
              "      <td>IT Supervisor</td>\n",
              "      <td>4000</td>\n",
              "      <td>MORTGAGE</td>\n",
              "      <td>WA</td>\n",
              "      <td>Debt consolidation</td>\n",
              "      <td>92000.0</td>\n",
              "      <td>30505.0</td>\n",
              "      <td>Current</td>\n",
              "      <td>D2</td>\n",
              "      <td>18.937500</td>\n",
              "      <td>36 months</td>\n",
              "      <td>16.74</td>\n",
              "      <td>985xx</td>\n",
              "      <td>3</td>\n",
              "      <td>10+ years</td>\n",
              "      <td>286.71</td>\n",
              "      <td>3</td>\n",
              "    </tr>\n",
              "    <tr>\n",
              "      <th>4</th>\n",
              "      <td>30000</td>\n",
              "      <td>54.0</td>\n",
              "      <td>Mechanic</td>\n",
              "      <td>30000</td>\n",
              "      <td>MORTGAGE</td>\n",
              "      <td>MD</td>\n",
              "      <td>Debt consolidation</td>\n",
              "      <td>57250.0</td>\n",
              "      <td>9667.0</td>\n",
              "      <td>Current</td>\n",
              "      <td>C4</td>\n",
              "      <td>16.140625</td>\n",
              "      <td>60 months</td>\n",
              "      <td>26.35</td>\n",
              "      <td>212xx</td>\n",
              "      <td>4</td>\n",
              "      <td>10+ years</td>\n",
              "      <td>1423.21</td>\n",
              "      <td>4</td>\n",
              "    </tr>\n",
              "  </tbody>\n",
              "</table>\n",
              "</div>"
            ],
            "text/plain": [
              "   loan_amnt  all_util       emp_title  ...  emp_length total_pymnt member_id\n",
              "0       2500      28.0            Chef  ...   10+ years      167.02         0\n",
              "1      30000      57.0     Postmaster   ...   10+ years     1507.11         1\n",
              "2       5000      35.0  Administrative  ...     6 years      353.89         2\n",
              "3       4000      70.0   IT Supervisor  ...   10+ years      286.71         3\n",
              "4      30000      54.0        Mechanic  ...   10+ years     1423.21         4\n",
              "\n",
              "[5 rows x 19 columns]"
            ]
          },
          "metadata": {
            "tags": []
          },
          "execution_count": 62
        }
      ]
    },
    {
      "cell_type": "code",
      "metadata": {
        "id": "PGvg4tGzLN0g",
        "colab_type": "code",
        "outputId": "30636c7a-7207-48b1-dbc1-04516746d19d",
        "colab": {
          "base_uri": "https://localhost:8080/",
          "height": 34
        }
      },
      "source": [
        "LOANS = ['title', 'funded_amnt', 'total_pymnt', 'sub_grade', 'int_rate', 'loan_amnt', 'loan_status', 'term', 'member_id']\n",
        "loans = dfc[LOANS]\n",
        "loans = loans.drop_duplicates(subset=LOANS)\n",
        "loans['id'] = loans.index\n",
        "\n",
        "print(len(loans), len(dfc))"
      ],
      "execution_count": 63,
      "outputs": [
        {
          "output_type": "stream",
          "text": [
            "2260668 2260668\n"
          ],
          "name": "stdout"
        }
      ]
    },
    {
      "cell_type": "code",
      "metadata": {
        "id": "4tvdspckGZ0S",
        "colab_type": "code",
        "outputId": "907381ac-73bd-4695-e9a3-1fce5cf8de49",
        "colab": {
          "base_uri": "https://localhost:8080/",
          "height": 143
        }
      },
      "source": [
        "a = loans.groupby('member_id').count()['id'].sort_values(ascending=False)\n",
        "a = a.reset_index()\n",
        "a.columns = ['member_id', 'count']\n",
        "a[a['count'] > 1]\n",
        "\n",
        "loans[loans['member_id'] == 2141934]"
      ],
      "execution_count": 64,
      "outputs": [
        {
          "output_type": "execute_result",
          "data": {
            "text/html": [
              "<div>\n",
              "<style scoped>\n",
              "    .dataframe tbody tr th:only-of-type {\n",
              "        vertical-align: middle;\n",
              "    }\n",
              "\n",
              "    .dataframe tbody tr th {\n",
              "        vertical-align: top;\n",
              "    }\n",
              "\n",
              "    .dataframe thead th {\n",
              "        text-align: right;\n",
              "    }\n",
              "</style>\n",
              "<table border=\"1\" class=\"dataframe\">\n",
              "  <thead>\n",
              "    <tr style=\"text-align: right;\">\n",
              "      <th></th>\n",
              "      <th>title</th>\n",
              "      <th>funded_amnt</th>\n",
              "      <th>total_pymnt</th>\n",
              "      <th>sub_grade</th>\n",
              "      <th>int_rate</th>\n",
              "      <th>loan_amnt</th>\n",
              "      <th>loan_status</th>\n",
              "      <th>term</th>\n",
              "      <th>member_id</th>\n",
              "      <th>id</th>\n",
              "    </tr>\n",
              "  </thead>\n",
              "  <tbody>\n",
              "    <tr>\n",
              "      <th>2141934</th>\n",
              "      <td>Moving expenses</td>\n",
              "      <td>5000</td>\n",
              "      <td>5593.631614</td>\n",
              "      <td>A2</td>\n",
              "      <td>7.429688</td>\n",
              "      <td>5000</td>\n",
              "      <td>Does not meet the credit policy. Status:Fully ...</td>\n",
              "      <td>36 months</td>\n",
              "      <td>2141934</td>\n",
              "      <td>2141934</td>\n",
              "    </tr>\n",
              "    <tr>\n",
              "      <th>2141935</th>\n",
              "      <td>Education</td>\n",
              "      <td>7000</td>\n",
              "      <td>7867.655865</td>\n",
              "      <td>A3</td>\n",
              "      <td>7.750000</td>\n",
              "      <td>7000</td>\n",
              "      <td>Does not meet the credit policy. Status:Fully ...</td>\n",
              "      <td>36 months</td>\n",
              "      <td>2141934</td>\n",
              "      <td>2141935</td>\n",
              "    </tr>\n",
              "    <tr>\n",
              "      <th>2141965</th>\n",
              "      <td>Moving expenses and security deposit</td>\n",
              "      <td>6700</td>\n",
              "      <td>7530.481427</td>\n",
              "      <td>A3</td>\n",
              "      <td>7.750000</td>\n",
              "      <td>6700</td>\n",
              "      <td>Does not meet the credit policy. Status:Fully ...</td>\n",
              "      <td>36 months</td>\n",
              "      <td>2141934</td>\n",
              "      <td>2141965</td>\n",
              "    </tr>\n",
              "  </tbody>\n",
              "</table>\n",
              "</div>"
            ],
            "text/plain": [
              "                                        title  funded_amnt  ...  member_id       id\n",
              "2141934                       Moving expenses         5000  ...    2141934  2141934\n",
              "2141935                             Education         7000  ...    2141934  2141935\n",
              "2141965  Moving expenses and security deposit         6700  ...    2141934  2141965\n",
              "\n",
              "[3 rows x 10 columns]"
            ]
          },
          "metadata": {
            "tags": []
          },
          "execution_count": 64
        }
      ]
    },
    {
      "cell_type": "markdown",
      "metadata": {
        "id": "TU-qlZetSXb2",
        "colab_type": "text"
      },
      "source": [
        "Having the two tables separated, we can easily see that some borrowers possess more than one loan. Especially, a borrower of `id = 2141934` is an owner of three loans at the same time.\n",
        "\n",
        "Let's save the newely created tables in designated files.\n",
        "We will use these tables to define a schema in a new database, and populate it with their records."
      ]
    },
    {
      "cell_type": "code",
      "metadata": {
        "id": "7-vpgr2-Ikiv",
        "colab_type": "code",
        "colab": {}
      },
      "source": [
        "loans['id'] = loans['id'] + 1 # make the df index the PK in database\n",
        "loans['member_id'] = loans['member_id'] + 1\n",
        "borrowers['member_id'] = borrowers['member_id'] + 1\n",
        "\n",
        "PROJECT_PATH = '/content/drive/My Drive/'\n",
        "\n",
        "loans.to_csv(join(PROJECT_PATH, 'loans_tbl.csv'))\n",
        "borrowers.to_csv(join(PROJECT_PATH, 'borrowers_tbl.csv'))"
      ],
      "execution_count": 0,
      "outputs": []
    }
  ]
}